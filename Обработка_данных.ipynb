{
 "cells": [
  {
   "cell_type": "code",
   "execution_count": 1,
   "metadata": {},
   "outputs": [],
   "source": [
    "import os\n",
    "import numpy as np\n",
    "import pandas as pd\n",
    "from pathlib import Path\n",
    "import seaborn as sns\n",
    "import matplotlib.pyplot as plt\n",
    "%matplotlib inline "
   ]
  },
  {
   "cell_type": "code",
   "execution_count": 161,
   "metadata": {},
   "outputs": [],
   "source": [
    "df = pd.read_excel('data_lessons/df.xlsx')"
   ]
  },
  {
   "cell_type": "code",
   "execution_count": 4,
   "metadata": {},
   "outputs": [
    {
     "data": {
      "text/html": [
       "<div>\n",
       "<style scoped>\n",
       "    .dataframe tbody tr th:only-of-type {\n",
       "        vertical-align: middle;\n",
       "    }\n",
       "\n",
       "    .dataframe tbody tr th {\n",
       "        vertical-align: top;\n",
       "    }\n",
       "\n",
       "    .dataframe thead th {\n",
       "        text-align: right;\n",
       "    }\n",
       "</style>\n",
       "<table border=\"1\" class=\"dataframe\">\n",
       "  <thead>\n",
       "    <tr style=\"text-align: right;\">\n",
       "      <th></th>\n",
       "      <th>Unnamed: 0</th>\n",
       "      <th>Unnamed: 0.1</th>\n",
       "      <th>product_id</th>\n",
       "      <th>quantity</th>\n",
       "      <th>name</th>\n",
       "      <th>date</th>\n",
       "    </tr>\n",
       "  </thead>\n",
       "  <tbody>\n",
       "    <tr>\n",
       "      <th>0</th>\n",
       "      <td>0</td>\n",
       "      <td>0</td>\n",
       "      <td>56</td>\n",
       "      <td>4</td>\n",
       "      <td>Vasiliy_Fedorov</td>\n",
       "      <td>2020-12-06</td>\n",
       "    </tr>\n",
       "    <tr>\n",
       "      <th>1</th>\n",
       "      <td>1</td>\n",
       "      <td>1</td>\n",
       "      <td>97</td>\n",
       "      <td>3</td>\n",
       "      <td>Vasiliy_Fedorov</td>\n",
       "      <td>2020-12-06</td>\n",
       "    </tr>\n",
       "    <tr>\n",
       "      <th>2</th>\n",
       "      <td>2</td>\n",
       "      <td>2</td>\n",
       "      <td>79</td>\n",
       "      <td>3</td>\n",
       "      <td>Vasiliy_Fedorov</td>\n",
       "      <td>2020-12-06</td>\n",
       "    </tr>\n",
       "    <tr>\n",
       "      <th>3</th>\n",
       "      <td>3</td>\n",
       "      <td>3</td>\n",
       "      <td>29</td>\n",
       "      <td>5</td>\n",
       "      <td>Vasiliy_Fedorov</td>\n",
       "      <td>2020-12-06</td>\n",
       "    </tr>\n",
       "    <tr>\n",
       "      <th>4</th>\n",
       "      <td>0</td>\n",
       "      <td>0</td>\n",
       "      <td>73</td>\n",
       "      <td>5</td>\n",
       "      <td>Alexey_Fedorov</td>\n",
       "      <td>2020-12-08</td>\n",
       "    </tr>\n",
       "  </tbody>\n",
       "</table>\n",
       "</div>"
      ],
      "text/plain": [
       "   Unnamed: 0  Unnamed: 0.1  product_id  quantity             name        date\n",
       "0           0             0          56         4  Vasiliy_Fedorov  2020-12-06\n",
       "1           1             1          97         3  Vasiliy_Fedorov  2020-12-06\n",
       "2           2             2          79         3  Vasiliy_Fedorov  2020-12-06\n",
       "3           3             3          29         5  Vasiliy_Fedorov  2020-12-06\n",
       "4           0             0          73         5   Alexey_Fedorov  2020-12-08"
      ]
     },
     "execution_count": 4,
     "metadata": {},
     "output_type": "execute_result"
    }
   ],
   "source": [
    "df.head()"
   ]
  },
  {
   "cell_type": "markdown",
   "metadata": {},
   "source": [
    "# Обработка строк, регулярные выражения"
   ]
  },
  {
   "cell_type": "code",
   "execution_count": 10,
   "metadata": {},
   "outputs": [
    {
     "data": {
      "text/plain": [
       "True"
      ]
     },
     "execution_count": 10,
     "metadata": {},
     "output_type": "execute_result"
    }
   ],
   "source": [
    "#Проверка на начало строки\n",
    "'Abyss'.startswith('Ab')"
   ]
  },
  {
   "cell_type": "code",
   "execution_count": 76,
   "metadata": {},
   "outputs": [
    {
     "data": {
      "text/plain": [
       "'ABYSS'"
      ]
     },
     "execution_count": 76,
     "metadata": {},
     "output_type": "execute_result"
    }
   ],
   "source": [
    "#врхний регистр\n",
    "'Abyss'.upper()"
   ]
  },
  {
   "cell_type": "code",
   "execution_count": 164,
   "metadata": {},
   "outputs": [
    {
     "data": {
      "text/plain": [
       "0     True\n",
       "1     True\n",
       "2     True\n",
       "3     True\n",
       "4    False\n",
       "5    False\n",
       "Name: name, dtype: bool"
      ]
     },
     "execution_count": 164,
     "metadata": {},
     "output_type": "execute_result"
    }
   ],
   "source": [
    "#проверка на содержание в тексте\n",
    "df.name.str.contains('Vasiliy').head(6)"
   ]
  },
  {
   "cell_type": "code",
   "execution_count": 169,
   "metadata": {},
   "outputs": [
    {
     "data": {
      "text/plain": [
       "0    1\n",
       "1    1\n",
       "2    1\n",
       "3    1\n",
       "4    0\n",
       "5    0\n",
       "dtype: int64"
      ]
     },
     "execution_count": 169,
     "metadata": {},
     "output_type": "execute_result"
    }
   ],
   "source": [
    "#условие для нового столбца (как case в sql)\n",
    "pd.Series(np.where( (df.name.str.contains('Vasiliy'))&(df.name.str.contains('Fedorov')) ,1,0)).head(6)"
   ]
  },
  {
   "cell_type": "code",
   "execution_count": null,
   "metadata": {},
   "outputs": [],
   "source": [
    "#параметризация строк и цикл с 2 переменными\n",
    "for lat, lon in zip(data_itog_msk['LATITUDE'], data_itog_msk['LONGITUDE']):\n",
    "    r = requests.get(f\"https://search-maps.yandex.ru/v1/?text=Электроника&ll={lat},{lon}&spn=1,1&results=50&type=biz&lang=ru_RU&apikey=5dcff3d1-3b27-4fca-a2d8-e25ed8d3ee30\")"
   ]
  },
  {
   "cell_type": "code",
   "execution_count": null,
   "metadata": {},
   "outputs": [],
   "source": []
  },
  {
   "cell_type": "code",
   "execution_count": null,
   "metadata": {},
   "outputs": [],
   "source": []
  },
  {
   "cell_type": "code",
   "execution_count": null,
   "metadata": {},
   "outputs": [],
   "source": []
  },
  {
   "cell_type": "code",
   "execution_count": null,
   "metadata": {},
   "outputs": [],
   "source": []
  },
  {
   "cell_type": "markdown",
   "metadata": {},
   "source": [
    "Специальные символы для re, обозначающие группу значений\n",
    "\n",
    "- \\d - любая цифра (digits)\n",
    "- \\D - всё что угодно кроме цифры\n",
    "- \\s - любой пробельный символ (spaces)\n",
    "- \\S - всё что угодно кроме пробельного символа\n",
    "- \\w - любая буква, цифра или _ (words)\n",
    "- \\W - всё что угодно кроме буквы, цифр или _\n",
    "\n",
    "(То есть нижний регистр - хотим это, верхний регистр - хотим не это)\n",
    "- . - любой символ"
   ]
  },
  {
   "cell_type": "markdown",
   "metadata": {},
   "source": [
    "### Документация re\n",
    "https://docs.python.org/3/library/re.html\n",
    "\n",
    "### HowTo?\n",
    "https://docs.python.org/3/howto/regex.html\n",
    "\n",
    "### Немного теории\n",
    "https://en.wikipedia.org/wiki/Kleene_star\n",
    "\n",
    "### Много крутых примеров\n",
    "https://habr.com/ru/post/349860/\n",
    "\n",
    "### Сайт для проверки паттернов в тексте\n",
    "https://regexr.com\n",
    "\n",
    "### Еще больше инфо\n",
    "https://www.regular-expressions.info \\\n",
    "https://ihateregex.io\n",
    "\n",
    "### Генерация паттернов\n",
    "http://regex.inginf.units.it"
   ]
  },
  {
   "cell_type": "code",
   "execution_count": 2,
   "metadata": {},
   "outputs": [
    {
     "data": {
      "text/plain": [
       "['yandex.ru']"
      ]
     },
     "execution_count": 2,
     "metadata": {},
     "output_type": "execute_result"
    }
   ],
   "source": [
    "#поиск определенных значений по тексту примеры\n",
    "import re \n",
    "\n",
    "mail = 'vasya@yandex.ru'\n",
    "\n",
    "pattern = re.compile('@([\\w.]+)')\n",
    "\n",
    "pattern.findall(mail)"
   ]
  },
  {
   "cell_type": "code",
   "execution_count": 70,
   "metadata": {},
   "outputs": [
    {
     "data": {
      "text/plain": [
       "['yandex.ru', 'gmail.com', 'karpov.courses.com', 'gmail.com']"
      ]
     },
     "execution_count": 70,
     "metadata": {},
     "output_type": "execute_result"
    }
   ],
   "source": [
    "text = '''We have several emails - vasya@yandex.ru, katya_ivanova@gmail.com,\n",
    "sasha@karpov.courses.com and also masha@gmail.com'''\n",
    "\n",
    "pattern.findall(text)"
   ]
  },
  {
   "cell_type": "code",
   "execution_count": 71,
   "metadata": {},
   "outputs": [
    {
     "data": {
      "text/plain": [
       "['ox']"
      ]
     },
     "execution_count": 71,
     "metadata": {},
     "output_type": "execute_result"
    }
   ],
   "source": [
    "text = 'the gray fox jumps over the lazy dog'\n",
    "\n",
    "pattern = re.compile('ox')\n",
    "pattern.findall(text)"
   ]
  },
  {
   "cell_type": "code",
   "execution_count": 72,
   "metadata": {},
   "outputs": [
    {
     "data": {
      "text/plain": [
       "['921', '000', '981', '555']"
      ]
     },
     "execution_count": 72,
     "metadata": {},
     "output_type": "execute_result"
    }
   ],
   "source": [
    "text = '+7-921-000-00-00 +7-981-555-55-55'\n",
    "\n",
    "pattern = re.compile('\\d\\d\\d')\n",
    "pattern.findall(text)"
   ]
  },
  {
   "cell_type": "code",
   "execution_count": 73,
   "metadata": {
    "collapsed": true
   },
   "outputs": [
    {
     "data": {
      "text/plain": [
       "['вред',\n",
       " 'веку',\n",
       " 'воим',\n",
       " 'вием',\n",
       " 'веку',\n",
       " 'вред',\n",
       " 'вино',\n",
       " 'вать',\n",
       " 'всем',\n",
       " 'век,',\n",
       " 'в, к',\n",
       " 'воре',\n",
       " 'вому',\n",
       " 'воей',\n",
       " 'в то',\n",
       " 'в ко',\n",
       " 'воре',\n",
       " 'вому']"
      ]
     },
     "execution_count": 73,
     "metadata": {},
     "output_type": "execute_result"
    }
   ],
   "source": [
    "asimov = '''Робот не может причинить вред человеку или своим бездействием допустить, чтобы человеку был причинён вред.\n",
    "Робот должен повиноваться всем приказам, которые даёт человек, кроме тех случаев, когда эти приказы противоречат Первому Закону.\n",
    "Робот должен заботиться о своей безопасности в той мере, в которой это не противоречит Первому или Второму Законам.'''\n",
    "\n",
    "\n",
    "pattern = re.compile('в...')\n",
    "pattern.findall(asimov)"
   ]
  },
  {
   "cell_type": "code",
   "execution_count": 74,
   "metadata": {},
   "outputs": [
    {
     "data": {
      "text/plain": [
       "[('921', '000'), ('981', '555')]"
      ]
     },
     "execution_count": 74,
     "metadata": {},
     "output_type": "execute_result"
    }
   ],
   "source": [
    "text = '+7-921-000-00-00 +7-981-555-55-55'\n",
    "\n",
    "pattern = re.compile('(\\d\\d\\d)-(\\d\\d\\d)')\n",
    "pattern.findall(text)"
   ]
  },
  {
   "cell_type": "markdown",
   "metadata": {},
   "source": [
    "Квантификаторы - это символы, позволяющие специфицировать, сколько раз нужно повторить то, что идёт до них. Вот их виды\n",
    "\n",
    "- \"*\" - сколько угодно раз (0 - бесконечность)\n",
    "- \"+\" - 1 или больше раз\n",
    "- \"?\" - 0 или 1 раз (то есть или предыдущий символ будет, или нет)\n",
    "- \"{}\" - в скобочках можно указать точное время или диапазон, читайте подробнее о них и других символах в документации\n",
    "\n",
    "Квантификаторы можно ставить после символа или группы. К примеру, отберём весь текст, начинающийся со слов человек "
   ]
  },
  {
   "cell_type": "code",
   "execution_count": 75,
   "metadata": {},
   "outputs": [
    {
     "data": {
      "text/plain": [
       "['человеку или своим бездействием допустить, чтобы человеку был причинён вред.',\n",
       " 'человек, кроме тех случаев, когда эти приказы противоречат Первому Закону.']"
      ]
     },
     "execution_count": 75,
     "metadata": {},
     "output_type": "execute_result"
    }
   ],
   "source": [
    "asimov = '''Робот не может причинить вред человеку или своим бездействием допустить, чтобы человеку был причинён вред.\n",
    "Робот должен повиноваться всем приказам, которые даёт человек, кроме тех случаев, когда эти приказы противоречат Первому Закону.\n",
    "Робот должен заботиться о своей безопасности в той мере, в которой это не противоречит Первому или Второму Законам.'''\n",
    "\n",
    "\n",
    "pattern = re.compile('человек.*')\n",
    "pattern.findall(asimov)"
   ]
  },
  {
   "cell_type": "code",
   "execution_count": 119,
   "metadata": {},
   "outputs": [
    {
     "data": {
      "text/html": [
       "<div>\n",
       "<style scoped>\n",
       "    .dataframe tbody tr th:only-of-type {\n",
       "        vertical-align: middle;\n",
       "    }\n",
       "\n",
       "    .dataframe tbody tr th {\n",
       "        vertical-align: top;\n",
       "    }\n",
       "\n",
       "    .dataframe thead th {\n",
       "        text-align: right;\n",
       "    }\n",
       "</style>\n",
       "<table border=\"1\" class=\"dataframe\">\n",
       "  <thead>\n",
       "    <tr style=\"text-align: right;\">\n",
       "      <th></th>\n",
       "      <th>Unnamed: 0</th>\n",
       "      <th>Unnamed: 0.1</th>\n",
       "      <th>product_id</th>\n",
       "      <th>quantity</th>\n",
       "      <th>name</th>\n",
       "      <th>date</th>\n",
       "      <th>name_surname</th>\n",
       "      <th>name_</th>\n",
       "      <th>digits_</th>\n",
       "    </tr>\n",
       "  </thead>\n",
       "  <tbody>\n",
       "    <tr>\n",
       "      <th>0</th>\n",
       "      <td>0</td>\n",
       "      <td>0</td>\n",
       "      <td>56</td>\n",
       "      <td>4</td>\n",
       "      <td>Vasiliy_Fedorov</td>\n",
       "      <td>2020-12-06</td>\n",
       "      <td>Vasiliy_Fedorov, 1234</td>\n",
       "      <td>Vasiliy_Fedorov</td>\n",
       "      <td>1234</td>\n",
       "    </tr>\n",
       "    <tr>\n",
       "      <th>1</th>\n",
       "      <td>1</td>\n",
       "      <td>1</td>\n",
       "      <td>97</td>\n",
       "      <td>3</td>\n",
       "      <td>Vasiliy_Fedorov</td>\n",
       "      <td>2020-12-06</td>\n",
       "      <td>Vasiliy_Fedorov, 1234</td>\n",
       "      <td>Vasiliy_Fedorov</td>\n",
       "      <td>1234</td>\n",
       "    </tr>\n",
       "    <tr>\n",
       "      <th>2</th>\n",
       "      <td>2</td>\n",
       "      <td>2</td>\n",
       "      <td>79</td>\n",
       "      <td>3</td>\n",
       "      <td>Vasiliy_Fedorov</td>\n",
       "      <td>2020-12-06</td>\n",
       "      <td>Vasiliy_Fedorov, 1234</td>\n",
       "      <td>Vasiliy_Fedorov</td>\n",
       "      <td>1234</td>\n",
       "    </tr>\n",
       "    <tr>\n",
       "      <th>3</th>\n",
       "      <td>3</td>\n",
       "      <td>3</td>\n",
       "      <td>29</td>\n",
       "      <td>5</td>\n",
       "      <td>Vasiliy_Fedorov</td>\n",
       "      <td>2020-12-06</td>\n",
       "      <td>Vasiliy_Fedorov, 1234</td>\n",
       "      <td>Vasiliy_Fedorov</td>\n",
       "      <td>1234</td>\n",
       "    </tr>\n",
       "    <tr>\n",
       "      <th>4</th>\n",
       "      <td>0</td>\n",
       "      <td>0</td>\n",
       "      <td>73</td>\n",
       "      <td>5</td>\n",
       "      <td>Alexey_Fedorov</td>\n",
       "      <td>2020-12-08</td>\n",
       "      <td>Alexey_Fedorov, 1234</td>\n",
       "      <td>Alexey_Fedorov</td>\n",
       "      <td>1234</td>\n",
       "    </tr>\n",
       "  </tbody>\n",
       "</table>\n",
       "</div>"
      ],
      "text/plain": [
       "   Unnamed: 0  Unnamed: 0.1  product_id  quantity             name       date  \\\n",
       "0           0             0          56         4  Vasiliy_Fedorov 2020-12-06   \n",
       "1           1             1          97         3  Vasiliy_Fedorov 2020-12-06   \n",
       "2           2             2          79         3  Vasiliy_Fedorov 2020-12-06   \n",
       "3           3             3          29         5  Vasiliy_Fedorov 2020-12-06   \n",
       "4           0             0          73         5   Alexey_Fedorov 2020-12-08   \n",
       "\n",
       "            name_surname            name_ digits_  \n",
       "0  Vasiliy_Fedorov, 1234  Vasiliy_Fedorov    1234  \n",
       "1  Vasiliy_Fedorov, 1234  Vasiliy_Fedorov    1234  \n",
       "2  Vasiliy_Fedorov, 1234  Vasiliy_Fedorov    1234  \n",
       "3  Vasiliy_Fedorov, 1234  Vasiliy_Fedorov    1234  \n",
       "4   Alexey_Fedorov, 1234   Alexey_Fedorov    1234  "
      ]
     },
     "execution_count": 119,
     "metadata": {},
     "output_type": "execute_result"
    }
   ],
   "source": [
    "#аналогично как в excel разбить столбец по столбцам\n",
    "\n",
    "#вариант 1\n",
    "df['name_'] = df['name_surname'].apply(lambda x: x.split(',')[0])\n",
    "df['digits_'] = df['name_surname'].apply(lambda x: x.split(',')[1])\n",
    "df.head(5)"
   ]
  },
  {
   "cell_type": "code",
   "execution_count": null,
   "metadata": {},
   "outputs": [],
   "source": [
    "#вариант 2\n",
    "df['name_surname'] = df['name'] + ','+ ' '  + '1234'\n",
    "# df['name_surname'].str.extract('(?P<name>\\s) , \\((?P<data>.+)\\)')\n"
   ]
  },
  {
   "cell_type": "code",
   "execution_count": null,
   "metadata": {},
   "outputs": [],
   "source": []
  },
  {
   "cell_type": "code",
   "execution_count": null,
   "metadata": {},
   "outputs": [],
   "source": []
  },
  {
   "cell_type": "markdown",
   "metadata": {},
   "source": [
    "# Операции с датафреймом"
   ]
  },
  {
   "cell_type": "code",
   "execution_count": 15,
   "metadata": {},
   "outputs": [
    {
     "data": {
      "text/html": [
       "<div>\n",
       "<style scoped>\n",
       "    .dataframe tbody tr th:only-of-type {\n",
       "        vertical-align: middle;\n",
       "    }\n",
       "\n",
       "    .dataframe tbody tr th {\n",
       "        vertical-align: top;\n",
       "    }\n",
       "\n",
       "    .dataframe thead th {\n",
       "        text-align: right;\n",
       "    }\n",
       "</style>\n",
       "<table border=\"1\" class=\"dataframe\">\n",
       "  <thead>\n",
       "    <tr style=\"text-align: right;\">\n",
       "      <th></th>\n",
       "      <th>Unnamed: 0</th>\n",
       "      <th>Unnamed: 0.1</th>\n",
       "      <th>product_id</th>\n",
       "      <th>quantity</th>\n",
       "      <th>name</th>\n",
       "      <th>date</th>\n",
       "    </tr>\n",
       "  </thead>\n",
       "  <tbody>\n",
       "    <tr>\n",
       "      <th>0</th>\n",
       "      <td>0</td>\n",
       "      <td>0</td>\n",
       "      <td>56</td>\n",
       "      <td>4</td>\n",
       "      <td>Vasiliy_Fedorov</td>\n",
       "      <td>2020-12-06</td>\n",
       "    </tr>\n",
       "    <tr>\n",
       "      <th>1</th>\n",
       "      <td>1</td>\n",
       "      <td>1</td>\n",
       "      <td>97</td>\n",
       "      <td>3</td>\n",
       "      <td>Vasiliy_Fedorov</td>\n",
       "      <td>2020-12-06</td>\n",
       "    </tr>\n",
       "    <tr>\n",
       "      <th>2</th>\n",
       "      <td>2</td>\n",
       "      <td>2</td>\n",
       "      <td>79</td>\n",
       "      <td>3</td>\n",
       "      <td>Vasiliy_Fedorov</td>\n",
       "      <td>2020-12-06</td>\n",
       "    </tr>\n",
       "    <tr>\n",
       "      <th>3</th>\n",
       "      <td>3</td>\n",
       "      <td>3</td>\n",
       "      <td>29</td>\n",
       "      <td>5</td>\n",
       "      <td>Vasiliy_Fedorov</td>\n",
       "      <td>2020-12-06</td>\n",
       "    </tr>\n",
       "    <tr>\n",
       "      <th>5</th>\n",
       "      <td>1</td>\n",
       "      <td>1</td>\n",
       "      <td>34</td>\n",
       "      <td>1</td>\n",
       "      <td>Alexey_Fedorov</td>\n",
       "      <td>2020-12-08</td>\n",
       "    </tr>\n",
       "  </tbody>\n",
       "</table>\n",
       "</div>"
      ],
      "text/plain": [
       "   Unnamed: 0  Unnamed: 0.1  product_id  quantity             name        date\n",
       "0           0             0          56         4  Vasiliy_Fedorov  2020-12-06\n",
       "1           1             1          97         3  Vasiliy_Fedorov  2020-12-06\n",
       "2           2             2          79         3  Vasiliy_Fedorov  2020-12-06\n",
       "3           3             3          29         5  Vasiliy_Fedorov  2020-12-06\n",
       "5           1             1          34         1   Alexey_Fedorov  2020-12-08"
      ]
     },
     "execution_count": 15,
     "metadata": {},
     "output_type": "execute_result"
    }
   ],
   "source": [
    "#удаление строки\n",
    "df.drop(index=4).head(5)"
   ]
  },
  {
   "cell_type": "code",
   "execution_count": 16,
   "metadata": {},
   "outputs": [
    {
     "data": {
      "text/html": [
       "<div>\n",
       "<style scoped>\n",
       "    .dataframe tbody tr th:only-of-type {\n",
       "        vertical-align: middle;\n",
       "    }\n",
       "\n",
       "    .dataframe tbody tr th {\n",
       "        vertical-align: top;\n",
       "    }\n",
       "\n",
       "    .dataframe thead th {\n",
       "        text-align: right;\n",
       "    }\n",
       "</style>\n",
       "<table border=\"1\" class=\"dataframe\">\n",
       "  <thead>\n",
       "    <tr style=\"text-align: right;\">\n",
       "      <th></th>\n",
       "      <th>Unnamed: 0</th>\n",
       "      <th>Unnamed: 0.1</th>\n",
       "      <th>product_id</th>\n",
       "      <th>quantity</th>\n",
       "      <th>date</th>\n",
       "    </tr>\n",
       "  </thead>\n",
       "  <tbody>\n",
       "    <tr>\n",
       "      <th>0</th>\n",
       "      <td>0</td>\n",
       "      <td>0</td>\n",
       "      <td>56</td>\n",
       "      <td>4</td>\n",
       "      <td>2020-12-06</td>\n",
       "    </tr>\n",
       "    <tr>\n",
       "      <th>1</th>\n",
       "      <td>1</td>\n",
       "      <td>1</td>\n",
       "      <td>97</td>\n",
       "      <td>3</td>\n",
       "      <td>2020-12-06</td>\n",
       "    </tr>\n",
       "    <tr>\n",
       "      <th>2</th>\n",
       "      <td>2</td>\n",
       "      <td>2</td>\n",
       "      <td>79</td>\n",
       "      <td>3</td>\n",
       "      <td>2020-12-06</td>\n",
       "    </tr>\n",
       "    <tr>\n",
       "      <th>3</th>\n",
       "      <td>3</td>\n",
       "      <td>3</td>\n",
       "      <td>29</td>\n",
       "      <td>5</td>\n",
       "      <td>2020-12-06</td>\n",
       "    </tr>\n",
       "    <tr>\n",
       "      <th>4</th>\n",
       "      <td>0</td>\n",
       "      <td>0</td>\n",
       "      <td>73</td>\n",
       "      <td>5</td>\n",
       "      <td>2020-12-08</td>\n",
       "    </tr>\n",
       "  </tbody>\n",
       "</table>\n",
       "</div>"
      ],
      "text/plain": [
       "   Unnamed: 0  Unnamed: 0.1  product_id  quantity        date\n",
       "0           0             0          56         4  2020-12-06\n",
       "1           1             1          97         3  2020-12-06\n",
       "2           2             2          79         3  2020-12-06\n",
       "3           3             3          29         5  2020-12-06\n",
       "4           0             0          73         5  2020-12-08"
      ]
     },
     "execution_count": 16,
     "metadata": {},
     "output_type": "execute_result"
    }
   ],
   "source": [
    "#удаление столбца\n",
    "df.drop(columns='name').head(5)"
   ]
  },
  {
   "cell_type": "code",
   "execution_count": 9,
   "metadata": {},
   "outputs": [
    {
     "data": {
      "text/html": [
       "<div>\n",
       "<style scoped>\n",
       "    .dataframe tbody tr th:only-of-type {\n",
       "        vertical-align: middle;\n",
       "    }\n",
       "\n",
       "    .dataframe tbody tr th {\n",
       "        vertical-align: top;\n",
       "    }\n",
       "\n",
       "    .dataframe thead th {\n",
       "        text-align: right;\n",
       "    }\n",
       "</style>\n",
       "<table border=\"1\" class=\"dataframe\">\n",
       "  <thead>\n",
       "    <tr style=\"text-align: right;\">\n",
       "      <th></th>\n",
       "      <th>product_id</th>\n",
       "      <th>name</th>\n",
       "      <th>date</th>\n",
       "    </tr>\n",
       "  </thead>\n",
       "  <tbody>\n",
       "    <tr>\n",
       "      <th>54</th>\n",
       "      <td>15</td>\n",
       "      <td>Anton_Ivanov</td>\n",
       "      <td>2020-12-07</td>\n",
       "    </tr>\n",
       "    <tr>\n",
       "      <th>106</th>\n",
       "      <td>94</td>\n",
       "      <td>Petr_Fedorov</td>\n",
       "      <td>2020-12-03</td>\n",
       "    </tr>\n",
       "  </tbody>\n",
       "</table>\n",
       "</div>"
      ],
      "text/plain": [
       "     product_id          name        date\n",
       "54           15  Anton_Ivanov  2020-12-07\n",
       "106          94  Petr_Fedorov  2020-12-03"
      ]
     },
     "execution_count": 9,
     "metadata": {},
     "output_type": "execute_result"
    }
   ],
   "source": [
    "#удалить дубликаты\n",
    "a = df[['product_id','name','date']].drop_duplicates()\n",
    "\n",
    "#Вывести дубликаты\n",
    "\n",
    "#сколько пользователей совершили повторную покупку? (купили один и тот же товар, но в разные дни)\n",
    "a.loc[a[['name','product_id']].duplicated()]"
   ]
  },
  {
   "cell_type": "code",
   "execution_count": null,
   "metadata": {},
   "outputs": [],
   "source": [
    "# Drop only if duplicates are in 'Date' or 'Last' columns\n",
    "df.drop_duplicates(subset=['Date', 'Last'])"
   ]
  },
  {
   "cell_type": "code",
   "execution_count": 124,
   "metadata": {},
   "outputs": [
    {
     "data": {
      "text/html": [
       "<div>\n",
       "<style scoped>\n",
       "    .dataframe tbody tr th:only-of-type {\n",
       "        vertical-align: middle;\n",
       "    }\n",
       "\n",
       "    .dataframe tbody tr th {\n",
       "        vertical-align: top;\n",
       "    }\n",
       "\n",
       "    .dataframe thead th {\n",
       "        text-align: right;\n",
       "    }\n",
       "</style>\n",
       "<table border=\"1\" class=\"dataframe\">\n",
       "  <thead>\n",
       "    <tr style=\"text-align: right;\">\n",
       "      <th></th>\n",
       "      <th>ad_id</th>\n",
       "      <th>date</th>\n",
       "    </tr>\n",
       "  </thead>\n",
       "  <tbody>\n",
       "    <tr>\n",
       "      <th>0</th>\n",
       "      <td>3</td>\n",
       "      <td>2</td>\n",
       "    </tr>\n",
       "    <tr>\n",
       "      <th>1</th>\n",
       "      <td>2132</td>\n",
       "      <td>2</td>\n",
       "    </tr>\n",
       "    <tr>\n",
       "      <th>2</th>\n",
       "      <td>2276</td>\n",
       "      <td>2</td>\n",
       "    </tr>\n",
       "    <tr>\n",
       "      <th>3</th>\n",
       "      <td>2475</td>\n",
       "      <td>2</td>\n",
       "    </tr>\n",
       "    <tr>\n",
       "      <th>4</th>\n",
       "      <td>2643</td>\n",
       "      <td>2</td>\n",
       "    </tr>\n",
       "  </tbody>\n",
       "</table>\n",
       "</div>"
      ],
      "text/plain": [
       "   ad_id  date\n",
       "0      3     2\n",
       "1   2132     2\n",
       "2   2276     2\n",
       "3   2475     2\n",
       "4   2643     2"
      ]
     },
     "execution_count": 124,
     "metadata": {},
     "output_type": "execute_result"
    }
   ],
   "source": [
    "#подсчет числа уникальных значений pd.Series.nunique\n",
    "ads_data.groupby(['ad_id'], as_index = False) \\\n",
    "            .agg({'date': pd.Series.nunique}).head(5)"
   ]
  },
  {
   "cell_type": "code",
   "execution_count": 172,
   "metadata": {},
   "outputs": [
    {
     "name": "stdout",
     "output_type": "stream",
     "text": [
      "0\n",
      "161\n"
     ]
    }
   ],
   "source": [
    "#подсчет нулевых значений\n",
    "print(df.product_id.isna().sum())\n",
    "#подсчет НЕ нулевых значений  \n",
    "print(df.product_id.notna().sum())"
   ]
  },
  {
   "cell_type": "code",
   "execution_count": 174,
   "metadata": {},
   "outputs": [
    {
     "data": {
      "text/plain": [
       "5"
      ]
     },
     "execution_count": 174,
     "metadata": {},
     "output_type": "execute_result"
    }
   ],
   "source": [
    "#вывод индекса максимального и миним значения\n",
    "df['quantity'].idxmin()\n",
    "df['quantity'].idxmax()"
   ]
  },
  {
   "cell_type": "code",
   "execution_count": 54,
   "metadata": {},
   "outputs": [
    {
     "data": {
      "text/html": [
       "<div>\n",
       "<style scoped>\n",
       "    .dataframe tbody tr th:only-of-type {\n",
       "        vertical-align: middle;\n",
       "    }\n",
       "\n",
       "    .dataframe tbody tr th {\n",
       "        vertical-align: top;\n",
       "    }\n",
       "\n",
       "    .dataframe thead th {\n",
       "        text-align: right;\n",
       "    }\n",
       "</style>\n",
       "<table border=\"1\" class=\"dataframe\">\n",
       "  <thead>\n",
       "    <tr style=\"text-align: right;\">\n",
       "      <th></th>\n",
       "      <th>ad_id</th>\n",
       "      <th>time</th>\n",
       "      <th>event</th>\n",
       "      <th>date</th>\n",
       "      <th>ad_cost_type</th>\n",
       "      <th>has_video</th>\n",
       "      <th>client_union_id</th>\n",
       "      <th>campaign_union_id</th>\n",
       "      <th>platform</th>\n",
       "      <th>ad_cost</th>\n",
       "      <th>target_audience_count</th>\n",
       "      <th>user_id</th>\n",
       "      <th>ctr</th>\n",
       "      <th>ctr_per</th>\n",
       "    </tr>\n",
       "  </thead>\n",
       "  <tbody>\n",
       "    <tr>\n",
       "      <th>0</th>\n",
       "      <td>23456</td>\n",
       "      <td>1554076848</td>\n",
       "      <td>view</td>\n",
       "      <td>2019-04-01</td>\n",
       "      <td>CPM</td>\n",
       "      <td>0</td>\n",
       "      <td>5681</td>\n",
       "      <td>23456</td>\n",
       "      <td>android</td>\n",
       "      <td>190.0</td>\n",
       "      <td>125560</td>\n",
       "      <td>793</td>\n",
       "      <td>66254.981583</td>\n",
       "      <td>6.625498e+06</td>\n",
       "    </tr>\n",
       "    <tr>\n",
       "      <th>1</th>\n",
       "      <td>111941</td>\n",
       "      <td>1554135866</td>\n",
       "      <td>view</td>\n",
       "      <td>2019-04-01</td>\n",
       "      <td>CPM</td>\n",
       "      <td>0</td>\n",
       "      <td>111793</td>\n",
       "      <td>111941</td>\n",
       "      <td>ios</td>\n",
       "      <td>215.2</td>\n",
       "      <td>32277</td>\n",
       "      <td>1041</td>\n",
       "      <td>13883.526733</td>\n",
       "      <td>1.388353e+06</td>\n",
       "    </tr>\n",
       "    <tr>\n",
       "      <th>2</th>\n",
       "      <td>111941</td>\n",
       "      <td>1554135866</td>\n",
       "      <td>view</td>\n",
       "      <td>2019-04-01</td>\n",
       "      <td>CPM</td>\n",
       "      <td>0</td>\n",
       "      <td>111793</td>\n",
       "      <td>111941</td>\n",
       "      <td>ios</td>\n",
       "      <td>215.2</td>\n",
       "      <td>32277</td>\n",
       "      <td>41</td>\n",
       "      <td>13883.526733</td>\n",
       "      <td>1.388353e+06</td>\n",
       "    </tr>\n",
       "    <tr>\n",
       "      <th>3</th>\n",
       "      <td>42987</td>\n",
       "      <td>1554135866</td>\n",
       "      <td>view</td>\n",
       "      <td>2019-04-01</td>\n",
       "      <td>CPM</td>\n",
       "      <td>0</td>\n",
       "      <td>28541</td>\n",
       "      <td>42985</td>\n",
       "      <td>ios</td>\n",
       "      <td>199.1</td>\n",
       "      <td>80160</td>\n",
       "      <td>898</td>\n",
       "      <td>36153.624724</td>\n",
       "      <td>3.615362e+06</td>\n",
       "    </tr>\n",
       "    <tr>\n",
       "      <th>4</th>\n",
       "      <td>23456</td>\n",
       "      <td>1554135866</td>\n",
       "      <td>view</td>\n",
       "      <td>2019-04-01</td>\n",
       "      <td>CPM</td>\n",
       "      <td>0</td>\n",
       "      <td>5681</td>\n",
       "      <td>23456</td>\n",
       "      <td>web</td>\n",
       "      <td>190.0</td>\n",
       "      <td>125560</td>\n",
       "      <td>29</td>\n",
       "      <td>66257.497698</td>\n",
       "      <td>6.625750e+06</td>\n",
       "    </tr>\n",
       "  </tbody>\n",
       "</table>\n",
       "</div>"
      ],
      "text/plain": [
       "    ad_id        time event        date ad_cost_type  has_video  \\\n",
       "0   23456  1554076848  view  2019-04-01          CPM          0   \n",
       "1  111941  1554135866  view  2019-04-01          CPM          0   \n",
       "2  111941  1554135866  view  2019-04-01          CPM          0   \n",
       "3   42987  1554135866  view  2019-04-01          CPM          0   \n",
       "4   23456  1554135866  view  2019-04-01          CPM          0   \n",
       "\n",
       "   client_union_id  campaign_union_id platform  ad_cost  \\\n",
       "0             5681              23456  android    190.0   \n",
       "1           111793             111941      ios    215.2   \n",
       "2           111793             111941      ios    215.2   \n",
       "3            28541              42985      ios    199.1   \n",
       "4             5681              23456      web    190.0   \n",
       "\n",
       "   target_audience_count  user_id           ctr       ctr_per  \n",
       "0                 125560      793  66254.981583  6.625498e+06  \n",
       "1                  32277     1041  13883.526733  1.388353e+06  \n",
       "2                  32277       41  13883.526733  1.388353e+06  \n",
       "3                  80160      898  36153.624724  3.615362e+06  \n",
       "4                 125560       29  66257.497698  6.625750e+06  "
      ]
     },
     "execution_count": 54,
     "metadata": {},
     "output_type": "execute_result"
    }
   ],
   "source": [
    "# удобный способ добавлять сразу несколько новых столбцов \n",
    "\n",
    "ads_data_by_ad = ads_data.assign(ctr = ads_data.time / ads_data.ad_id, \n",
    "                           ctr_per = 100 * ads_data.time / ads_data.ad_id)\n",
    "ads_data_by_ad.head()"
   ]
  },
  {
   "cell_type": "markdown",
   "metadata": {},
   "source": [
    "Отбор столбцов по названию pd.DataFrame.filter(items/like/regex, axis)\n",
    "\n",
    "- items - принимает список с названиями колонок или строк, особой разницы по сравнению с loc'ом нет\n",
    "- like - принимает строку, и возвращает все колонки, где в названии содержится строка, переданная в like\n",
    "- regex - принимает строку, означающую паттерн ре, возвращает все колонки с названиями, матчимящимися на паттерн\n",
    "- axis - параметр для обозначения того, отбираем мы колонки или строки, принимает 'columns' или 'index', по умолчанию фильтрует колонки"
   ]
  },
  {
   "cell_type": "code",
   "execution_count": 122,
   "metadata": {},
   "outputs": [
    {
     "data": {
      "text/html": [
       "<div>\n",
       "<style scoped>\n",
       "    .dataframe tbody tr th:only-of-type {\n",
       "        vertical-align: middle;\n",
       "    }\n",
       "\n",
       "    .dataframe tbody tr th {\n",
       "        vertical-align: top;\n",
       "    }\n",
       "\n",
       "    .dataframe thead th {\n",
       "        text-align: right;\n",
       "    }\n",
       "</style>\n",
       "<table border=\"1\" class=\"dataframe\">\n",
       "  <thead>\n",
       "    <tr style=\"text-align: right;\">\n",
       "      <th></th>\n",
       "      <th>ad_id</th>\n",
       "      <th>has_video</th>\n",
       "      <th>client_union_id</th>\n",
       "      <th>campaign_union_id</th>\n",
       "      <th>user_id</th>\n",
       "    </tr>\n",
       "  </thead>\n",
       "  <tbody>\n",
       "    <tr>\n",
       "      <th>0</th>\n",
       "      <td>23456</td>\n",
       "      <td>0</td>\n",
       "      <td>5681</td>\n",
       "      <td>23456</td>\n",
       "      <td>793</td>\n",
       "    </tr>\n",
       "    <tr>\n",
       "      <th>1</th>\n",
       "      <td>111941</td>\n",
       "      <td>0</td>\n",
       "      <td>111793</td>\n",
       "      <td>111941</td>\n",
       "      <td>1041</td>\n",
       "    </tr>\n",
       "    <tr>\n",
       "      <th>2</th>\n",
       "      <td>111941</td>\n",
       "      <td>0</td>\n",
       "      <td>111793</td>\n",
       "      <td>111941</td>\n",
       "      <td>41</td>\n",
       "    </tr>\n",
       "    <tr>\n",
       "      <th>3</th>\n",
       "      <td>42987</td>\n",
       "      <td>0</td>\n",
       "      <td>28541</td>\n",
       "      <td>42985</td>\n",
       "      <td>898</td>\n",
       "    </tr>\n",
       "    <tr>\n",
       "      <th>4</th>\n",
       "      <td>23456</td>\n",
       "      <td>0</td>\n",
       "      <td>5681</td>\n",
       "      <td>23456</td>\n",
       "      <td>29</td>\n",
       "    </tr>\n",
       "  </tbody>\n",
       "</table>\n",
       "</div>"
      ],
      "text/plain": [
       "    ad_id  has_video  client_union_id  campaign_union_id  user_id\n",
       "0   23456          0             5681              23456      793\n",
       "1  111941          0           111793             111941     1041\n",
       "2  111941          0           111793             111941       41\n",
       "3   42987          0            28541              42985      898\n",
       "4   23456          0             5681              23456       29"
      ]
     },
     "execution_count": 122,
     "metadata": {},
     "output_type": "execute_result"
    }
   ],
   "source": [
    "#выводим столбцы, где в названии есть id\n",
    "ads_data_by_ad.filter(like = 'id').head(5)"
   ]
  },
  {
   "cell_type": "code",
   "execution_count": 67,
   "metadata": {
    "collapsed": true
   },
   "outputs": [
    {
     "data": {
      "text/html": [
       "<div>\n",
       "<style scoped>\n",
       "    .dataframe tbody tr th:only-of-type {\n",
       "        vertical-align: middle;\n",
       "    }\n",
       "\n",
       "    .dataframe tbody tr th {\n",
       "        vertical-align: top;\n",
       "    }\n",
       "\n",
       "    .dataframe thead th {\n",
       "        text-align: right;\n",
       "    }\n",
       "</style>\n",
       "<table border=\"1\" class=\"dataframe\">\n",
       "  <thead>\n",
       "    <tr style=\"text-align: right;\">\n",
       "      <th>event</th>\n",
       "      <th>ad_id</th>\n",
       "      <th>click</th>\n",
       "      <th>view</th>\n",
       "    </tr>\n",
       "  </thead>\n",
       "  <tbody>\n",
       "    <tr>\n",
       "      <th>0</th>\n",
       "      <td>3</td>\n",
       "      <td>1.554431e+09</td>\n",
       "      <td>1.554423e+09</td>\n",
       "    </tr>\n",
       "    <tr>\n",
       "      <th>1</th>\n",
       "      <td>2132</td>\n",
       "      <td>1.554477e+09</td>\n",
       "      <td>1.554425e+09</td>\n",
       "    </tr>\n",
       "    <tr>\n",
       "      <th>2</th>\n",
       "      <td>2276</td>\n",
       "      <td>1.554424e+09</td>\n",
       "      <td>1.554422e+09</td>\n",
       "    </tr>\n",
       "    <tr>\n",
       "      <th>3</th>\n",
       "      <td>2475</td>\n",
       "      <td>NaN</td>\n",
       "      <td>1.554423e+09</td>\n",
       "    </tr>\n",
       "    <tr>\n",
       "      <th>4</th>\n",
       "      <td>2643</td>\n",
       "      <td>1.554459e+09</td>\n",
       "      <td>1.554424e+09</td>\n",
       "    </tr>\n",
       "    <tr>\n",
       "      <th>...</th>\n",
       "      <td>...</td>\n",
       "      <td>...</td>\n",
       "      <td>...</td>\n",
       "    </tr>\n",
       "    <tr>\n",
       "      <th>350</th>\n",
       "      <td>121941</td>\n",
       "      <td>1.554252e+09</td>\n",
       "      <td>1.554250e+09</td>\n",
       "    </tr>\n",
       "    <tr>\n",
       "      <th>351</th>\n",
       "      <td>121943</td>\n",
       "      <td>1.554164e+09</td>\n",
       "      <td>1.554163e+09</td>\n",
       "    </tr>\n",
       "    <tr>\n",
       "      <th>352</th>\n",
       "      <td>122042</td>\n",
       "      <td>1.554469e+09</td>\n",
       "      <td>1.554423e+09</td>\n",
       "    </tr>\n",
       "    <tr>\n",
       "      <th>353</th>\n",
       "      <td>122063</td>\n",
       "      <td>1.554281e+09</td>\n",
       "      <td>1.554250e+09</td>\n",
       "    </tr>\n",
       "    <tr>\n",
       "      <th>354</th>\n",
       "      <td>122086</td>\n",
       "      <td>1.554164e+09</td>\n",
       "      <td>1.554163e+09</td>\n",
       "    </tr>\n",
       "  </tbody>\n",
       "</table>\n",
       "<p>355 rows × 3 columns</p>\n",
       "</div>"
      ],
      "text/plain": [
       "event   ad_id         click          view\n",
       "0           3  1.554431e+09  1.554423e+09\n",
       "1        2132  1.554477e+09  1.554425e+09\n",
       "2        2276  1.554424e+09  1.554422e+09\n",
       "3        2475           NaN  1.554423e+09\n",
       "4        2643  1.554459e+09  1.554424e+09\n",
       "..        ...           ...           ...\n",
       "350    121941  1.554252e+09  1.554250e+09\n",
       "351    121943  1.554164e+09  1.554163e+09\n",
       "352    122042  1.554469e+09  1.554423e+09\n",
       "353    122063  1.554281e+09  1.554250e+09\n",
       "354    122086  1.554164e+09  1.554163e+09\n",
       "\n",
       "[355 rows x 3 columns]"
      ]
     },
     "execution_count": 67,
     "metadata": {},
     "output_type": "execute_result"
    }
   ],
   "source": [
    "#pivot удобно исп как сводные в экселе (для выноса значений)\n",
    "ads_data.groupby(['ad_id', 'event'], as_index=False) \\\n",
    "    .agg({'time': 'min'}) \\\n",
    "    .pivot(index='ad_id', columns='event', values='time').reset_index()"
   ]
  },
  {
   "cell_type": "code",
   "execution_count": 68,
   "metadata": {},
   "outputs": [
    {
     "data": {
      "text/html": [
       "<div>\n",
       "<style scoped>\n",
       "    .dataframe tbody tr th:only-of-type {\n",
       "        vertical-align: middle;\n",
       "    }\n",
       "\n",
       "    .dataframe tbody tr th {\n",
       "        vertical-align: top;\n",
       "    }\n",
       "\n",
       "    .dataframe thead th {\n",
       "        text-align: right;\n",
       "    }\n",
       "</style>\n",
       "<table border=\"1\" class=\"dataframe\">\n",
       "  <thead>\n",
       "    <tr style=\"text-align: right;\">\n",
       "      <th>event</th>\n",
       "      <th>click</th>\n",
       "      <th>view</th>\n",
       "    </tr>\n",
       "    <tr>\n",
       "      <th>date</th>\n",
       "      <th></th>\n",
       "      <th></th>\n",
       "    </tr>\n",
       "  </thead>\n",
       "  <tbody>\n",
       "    <tr>\n",
       "      <th>2019-04-01</th>\n",
       "      <td>735</td>\n",
       "      <td>34832</td>\n",
       "    </tr>\n",
       "    <tr>\n",
       "      <th>2019-04-02</th>\n",
       "      <td>1518</td>\n",
       "      <td>145811</td>\n",
       "    </tr>\n",
       "    <tr>\n",
       "      <th>2019-04-03</th>\n",
       "      <td>1678</td>\n",
       "      <td>214851</td>\n",
       "    </tr>\n",
       "    <tr>\n",
       "      <th>2019-04-04</th>\n",
       "      <td>1517</td>\n",
       "      <td>126182</td>\n",
       "    </tr>\n",
       "    <tr>\n",
       "      <th>2019-04-05</th>\n",
       "      <td>501595</td>\n",
       "      <td>1783288</td>\n",
       "    </tr>\n",
       "    <tr>\n",
       "      <th>2019-04-06</th>\n",
       "      <td>80420</td>\n",
       "      <td>284287</td>\n",
       "    </tr>\n",
       "  </tbody>\n",
       "</table>\n",
       "</div>"
      ],
      "text/plain": [
       "event        click     view\n",
       "date                       \n",
       "2019-04-01     735    34832\n",
       "2019-04-02    1518   145811\n",
       "2019-04-03    1678   214851\n",
       "2019-04-04    1517   126182\n",
       "2019-04-05  501595  1783288\n",
       "2019-04-06   80420   284287"
      ]
     },
     "execution_count": 68,
     "metadata": {},
     "output_type": "execute_result"
    }
   ],
   "source": [
    "#pivot_table - аналогично pivot, только можно использовать и агрегацию\n",
    "ads_data.groupby(['date', 'event'], as_index=False) \\\n",
    "    .agg({'ad_id': 'count'}) \\\n",
    "    .pivot_table('ad_id', index = 'date', columns = 'event', aggfunc = 'sum')\n"
   ]
  },
  {
   "cell_type": "code",
   "execution_count": null,
   "metadata": {},
   "outputs": [],
   "source": [
    "#преобразование float в int  -  dataframe\n",
    ".fillna(0).applymap(lambda x: int(x) if isinstance(x, float) else x)"
   ]
  },
  {
   "cell_type": "markdown",
   "metadata": {},
   "source": [
    "### Преобразование континуальной переменной в категориальную\n",
    "Если вам нужно перейти от чисел к категориям, воспользуйтесь функцией pd.cut. Она принимает массив значений и число интервалов/список из границ интервалов"
   ]
  },
  {
   "cell_type": "code",
   "execution_count": 143,
   "metadata": {},
   "outputs": [
    {
     "data": {
      "text/plain": [
       "0    190.0\n",
       "1    215.2\n",
       "2    215.2\n",
       "3    199.1\n",
       "4    190.0\n",
       "Name: ad_cost, dtype: float64"
      ]
     },
     "execution_count": 143,
     "metadata": {},
     "output_type": "execute_result"
    }
   ],
   "source": [
    "ads_data['ad_cost'].head()"
   ]
  },
  {
   "cell_type": "code",
   "execution_count": 145,
   "metadata": {},
   "outputs": [
    {
     "data": {
      "text/plain": [
       "0    (150, 200]\n",
       "1    (200, 250]\n",
       "2    (200, 250]\n",
       "3    (150, 200]\n",
       "4    (150, 200]\n",
       "Name: ad_cost, dtype: category\n",
       "Categories (3, interval[int64]): [(100, 150] < (150, 200] < (200, 250]]"
      ]
     },
     "execution_count": 145,
     "metadata": {},
     "output_type": "execute_result"
    }
   ],
   "source": [
    "pd.cut(ads_data['ad_cost'].head(), [100, 150, 200, 250])"
   ]
  },
  {
   "cell_type": "code",
   "execution_count": 146,
   "metadata": {},
   "outputs": [
    {
     "data": {
      "text/plain": [
       "0    medium\n",
       "1      high\n",
       "2      high\n",
       "3    medium\n",
       "4    medium\n",
       "Name: ad_cost, dtype: category\n",
       "Categories (3, object): [low < medium < high]"
      ]
     },
     "execution_count": 146,
     "metadata": {},
     "output_type": "execute_result"
    }
   ],
   "source": [
    "pd.cut(ads_data['ad_cost'].head(), [100, 150, 200, 250], labels = ['low', 'medium', 'high'])"
   ]
  },
  {
   "cell_type": "code",
   "execution_count": 148,
   "metadata": {},
   "outputs": [
    {
     "data": {
      "text/plain": [
       "0    (189.975, 198.4]\n",
       "1      (206.8, 215.2]\n",
       "2      (206.8, 215.2]\n",
       "3      (198.4, 206.8]\n",
       "4    (189.975, 198.4]\n",
       "Name: ad_cost, dtype: category\n",
       "Categories (3, interval[float64]): [(189.975, 198.4] < (198.4, 206.8] < (206.8, 215.2]]"
      ]
     },
     "execution_count": 148,
     "metadata": {},
     "output_type": "execute_result"
    }
   ],
   "source": [
    "pd.cut(ads_data['ad_cost'].head(), bins = 3)"
   ]
  },
  {
   "cell_type": "markdown",
   "metadata": {},
   "source": [
    "### Интервалы для timedelta"
   ]
  },
  {
   "cell_type": "code",
   "execution_count": 149,
   "metadata": {},
   "outputs": [],
   "source": [
    "data = pd.read_csv(\"data_lessons/delays.csv\")"
   ]
  },
  {
   "cell_type": "code",
   "execution_count": 150,
   "metadata": {},
   "outputs": [
    {
     "data": {
      "text/html": [
       "<div>\n",
       "<style scoped>\n",
       "    .dataframe tbody tr th:only-of-type {\n",
       "        vertical-align: middle;\n",
       "    }\n",
       "\n",
       "    .dataframe tbody tr th {\n",
       "        vertical-align: top;\n",
       "    }\n",
       "\n",
       "    .dataframe thead th {\n",
       "        text-align: right;\n",
       "    }\n",
       "</style>\n",
       "<table border=\"1\" class=\"dataframe\">\n",
       "  <thead>\n",
       "    <tr style=\"text-align: right;\">\n",
       "      <th></th>\n",
       "      <th>client_id</th>\n",
       "      <th>company_id</th>\n",
       "      <th>delay</th>\n",
       "      <th>revenue</th>\n",
       "    </tr>\n",
       "  </thead>\n",
       "  <tbody>\n",
       "    <tr>\n",
       "      <th>0</th>\n",
       "      <td>2389</td>\n",
       "      <td>4240</td>\n",
       "      <td>-1 days -14:57:48.000000000</td>\n",
       "      <td>705436</td>\n",
       "    </tr>\n",
       "    <tr>\n",
       "      <th>1</th>\n",
       "      <td>7614</td>\n",
       "      <td>9544</td>\n",
       "      <td>-4 days -02:14:23.000000000</td>\n",
       "      <td>859266</td>\n",
       "    </tr>\n",
       "    <tr>\n",
       "      <th>2</th>\n",
       "      <td>2052</td>\n",
       "      <td>2427</td>\n",
       "      <td>-0 days -06:08:57.000000000</td>\n",
       "      <td>812416</td>\n",
       "    </tr>\n",
       "    <tr>\n",
       "      <th>3</th>\n",
       "      <td>9635</td>\n",
       "      <td>8054</td>\n",
       "      <td>-0 days -23:40:19.000000000</td>\n",
       "      <td>162312</td>\n",
       "    </tr>\n",
       "    <tr>\n",
       "      <th>4</th>\n",
       "      <td>8154</td>\n",
       "      <td>5503</td>\n",
       "      <td>-1 days -13:21:53.000000000</td>\n",
       "      <td>658844</td>\n",
       "    </tr>\n",
       "  </tbody>\n",
       "</table>\n",
       "</div>"
      ],
      "text/plain": [
       "   client_id  company_id                        delay  revenue\n",
       "0       2389        4240  -1 days -14:57:48.000000000   705436\n",
       "1       7614        9544  -4 days -02:14:23.000000000   859266\n",
       "2       2052        2427  -0 days -06:08:57.000000000   812416\n",
       "3       9635        8054  -0 days -23:40:19.000000000   162312\n",
       "4       8154        5503  -1 days -13:21:53.000000000   658844"
      ]
     },
     "execution_count": 150,
     "metadata": {},
     "output_type": "execute_result"
    }
   ],
   "source": [
    "data.head()"
   ]
  },
  {
   "cell_type": "code",
   "execution_count": 151,
   "metadata": {},
   "outputs": [
    {
     "data": {
      "text/html": [
       "<div>\n",
       "<style scoped>\n",
       "    .dataframe tbody tr th:only-of-type {\n",
       "        vertical-align: middle;\n",
       "    }\n",
       "\n",
       "    .dataframe tbody tr th {\n",
       "        vertical-align: top;\n",
       "    }\n",
       "\n",
       "    .dataframe thead th {\n",
       "        text-align: right;\n",
       "    }\n",
       "</style>\n",
       "<table border=\"1\" class=\"dataframe\">\n",
       "  <thead>\n",
       "    <tr style=\"text-align: right;\">\n",
       "      <th></th>\n",
       "      <th>client_id</th>\n",
       "      <th>company_id</th>\n",
       "      <th>delay</th>\n",
       "      <th>revenue</th>\n",
       "    </tr>\n",
       "  </thead>\n",
       "  <tbody>\n",
       "    <tr>\n",
       "      <th>0</th>\n",
       "      <td>2389</td>\n",
       "      <td>4240</td>\n",
       "      <td>1 days 14:57:48</td>\n",
       "      <td>705436</td>\n",
       "    </tr>\n",
       "    <tr>\n",
       "      <th>1</th>\n",
       "      <td>7614</td>\n",
       "      <td>9544</td>\n",
       "      <td>4 days 02:14:23</td>\n",
       "      <td>859266</td>\n",
       "    </tr>\n",
       "    <tr>\n",
       "      <th>2</th>\n",
       "      <td>2052</td>\n",
       "      <td>2427</td>\n",
       "      <td>0 days 06:08:57</td>\n",
       "      <td>812416</td>\n",
       "    </tr>\n",
       "    <tr>\n",
       "      <th>3</th>\n",
       "      <td>9635</td>\n",
       "      <td>8054</td>\n",
       "      <td>0 days 23:40:19</td>\n",
       "      <td>162312</td>\n",
       "    </tr>\n",
       "    <tr>\n",
       "      <th>4</th>\n",
       "      <td>8154</td>\n",
       "      <td>5503</td>\n",
       "      <td>1 days 13:21:53</td>\n",
       "      <td>658844</td>\n",
       "    </tr>\n",
       "  </tbody>\n",
       "</table>\n",
       "</div>"
      ],
      "text/plain": [
       "   client_id  company_id           delay  revenue\n",
       "0       2389        4240 1 days 14:57:48   705436\n",
       "1       7614        9544 4 days 02:14:23   859266\n",
       "2       2052        2427 0 days 06:08:57   812416\n",
       "3       9635        8054 0 days 23:40:19   162312\n",
       "4       8154        5503 1 days 13:21:53   658844"
      ]
     },
     "execution_count": 151,
     "metadata": {},
     "output_type": "execute_result"
    }
   ],
   "source": [
    "data['delay'] = pd.to_timedelta(data['delay'].apply(lambda x: x.replace('-','')))\n",
    "data.head()"
   ]
  },
  {
   "cell_type": "code",
   "execution_count": 155,
   "metadata": {},
   "outputs": [
    {
     "data": {
      "text/plain": [
       "Timedelta('4 days 23:51:14')"
      ]
     },
     "execution_count": 155,
     "metadata": {},
     "output_type": "execute_result"
    }
   ],
   "source": [
    "#max дата\n",
    "data.delay.max()"
   ]
  },
  {
   "cell_type": "code",
   "execution_count": 157,
   "metadata": {},
   "outputs": [
    {
     "data": {
      "text/plain": [
       "0            1-2 days\n",
       "1    more than 3 days\n",
       "2     less than 1 day\n",
       "3     less than 1 day\n",
       "4            1-2 days\n",
       "Name: delay, dtype: category\n",
       "Categories (4, object): [less than 1 day < 1-2 days < 2-3 days < more than 3 days]"
      ]
     },
     "execution_count": 157,
     "metadata": {},
     "output_type": "execute_result"
    }
   ],
   "source": [
    "pd.cut(data.delay, bins=[pd.to_timedelta('0d'),pd.to_timedelta('1d'),\n",
    "                         pd.to_timedelta('2d'),pd.to_timedelta('3d'),data.delay.max()],\n",
    "      labels = ['less than 1 day', '1-2 days', '2-3 days', 'more than 3 days']).head()"
   ]
  },
  {
   "cell_type": "markdown",
   "metadata": {},
   "source": [
    "## Apply"
   ]
  },
  {
   "cell_type": "code",
   "execution_count": null,
   "metadata": {},
   "outputs": [],
   "source": [
    "#apply if conditions\n",
    "day_1_3['days'] = day_1_3['hours_spent_sums'].apply(lambda x: 1 if x <= 6 else 2 if x>6 and x<=12 else 3)"
   ]
  },
  {
   "cell_type": "code",
   "execution_count": null,
   "metadata": {},
   "outputs": [],
   "source": []
  },
  {
   "cell_type": "markdown",
   "metadata": {},
   "source": [
    "# ДАТА и ВРЕМЯ"
   ]
  },
  {
   "cell_type": "code",
   "execution_count": 53,
   "metadata": {},
   "outputs": [
    {
     "name": "stdout",
     "output_type": "stream",
     "text": [
      "0    12\n",
      "Name: date, dtype: int64\n",
      "0    6\n",
      "Name: date, dtype: int64\n",
      "0    2020\n",
      "Name: date, dtype: int64\n",
      "0    Sunday\n",
      "Name: date, dtype: object\n",
      "0    December\n",
      "Name: date, dtype: object\n",
      "0    49\n",
      "Name: date, dtype: int64\n",
      "0    31\n",
      "Name: date, dtype: int64\n"
     ]
    }
   ],
   "source": [
    "#переводим в формат времени\n",
    "df['date'] = pd.to_datetime(df['date'])\n",
    "\n",
    "#month, year, date\n",
    "print(df['date'].dt.month.head(1))\n",
    "print(df['date'].dt.day.head(1))\n",
    "print(df['date'].dt.year.head(1))\n",
    "print(df['date'].dt.day_name().head(1))\n",
    "print(df['date'].dt.month_name().head(1))\n",
    "\n",
    "#номер недели в году\n",
    "print(df['date'].dt.week.head(1))\n",
    "#число дней в текущем месяце\n",
    "print(df['date'].dt.daysinmonth.head(1))\n",
    "\n",
    "#предварительный распарс\n",
    "# pd.read_csv('some.csv', parse_dates=[1])  # order of columns starting from 0\n"
   ]
  },
  {
   "cell_type": "code",
   "execution_count": 46,
   "metadata": {},
   "outputs": [
    {
     "data": {
      "text/plain": [
       "Timestamp('2017-03-22 15:16:45')"
      ]
     },
     "execution_count": 46,
     "metadata": {},
     "output_type": "execute_result"
    }
   ],
   "source": [
    "#Время может быть указано в разном формате, один из них - число секунд, прошедших с 1970 года\n",
    "pd.to_datetime(1490195805, unit='s')"
   ]
  },
  {
   "cell_type": "code",
   "execution_count": null,
   "metadata": {},
   "outputs": [],
   "source": [
    "#больше по работе с датами\n",
    "https://pandas.pydata.org/pandas-docs/stable/user_guide/timeseries.html"
   ]
  },
  {
   "cell_type": "code",
   "execution_count": 2,
   "metadata": {},
   "outputs": [
    {
     "data": {
      "text/plain": [
       "DatetimeIndex(['2021-07-01', '2021-07-02', '2021-07-03', '2021-07-04',\n",
       "               '2021-07-05'],\n",
       "              dtype='datetime64[ns]', freq='D')"
      ]
     },
     "execution_count": 2,
     "metadata": {},
     "output_type": "execute_result"
    }
   ],
   "source": [
    "#генерация дат\n",
    "pd.date_range(\n",
    "    '2021-07-01',\n",
    "    '2021-07-05'\n",
    ")"
   ]
  },
  {
   "cell_type": "markdown",
   "metadata": {},
   "source": [
    "# Работа с файлами"
   ]
  },
  {
   "cell_type": "code",
   "execution_count": null,
   "metadata": {},
   "outputs": [],
   "source": [
    "#открытие и считывание файлов\n",
    "file = open('path_to_file')\n",
    "lines = file.readlines()  # lines is a list with lines from the file\n",
    "file.close()"
   ]
  },
  {
   "cell_type": "code",
   "execution_count": null,
   "metadata": {},
   "outputs": [],
   "source": [
    "#обработка txt , excel файлов"
   ]
  },
  {
   "cell_type": "code",
   "execution_count": 25,
   "metadata": {},
   "outputs": [],
   "source": [
    "data_1 = pd.read_excel('data_lessons/inn.xls')"
   ]
  },
  {
   "cell_type": "code",
   "execution_count": 26,
   "metadata": {
    "collapsed": true
   },
   "outputs": [
    {
     "data": {
      "text/html": [
       "<div>\n",
       "<style scoped>\n",
       "    .dataframe tbody tr th:only-of-type {\n",
       "        vertical-align: middle;\n",
       "    }\n",
       "\n",
       "    .dataframe tbody tr th {\n",
       "        vertical-align: top;\n",
       "    }\n",
       "\n",
       "    .dataframe thead th {\n",
       "        text-align: right;\n",
       "    }\n",
       "</style>\n",
       "<table border=\"1\" class=\"dataframe\">\n",
       "  <thead>\n",
       "    <tr style=\"text-align: right;\">\n",
       "      <th></th>\n",
       "      <th>Unnamed: 0</th>\n",
       "      <th>#</th>\n",
       "      <th>name</th>\n",
       "      <th>reg_number</th>\n",
       "      <th>address</th>\n",
       "      <th>head</th>\n",
       "      <th>head_job</th>\n",
       "      <th>head_inn</th>\n",
       "      <th>phone</th>\n",
       "      <th>email</th>\n",
       "      <th>site</th>\n",
       "      <th>registration_date</th>\n",
       "      <th>nalogoplatelschik_code</th>\n",
       "      <th>oktmo_code</th>\n",
       "      <th>okato_code</th>\n",
       "      <th>registration_region</th>\n",
       "      <th>okato_name</th>\n",
       "      <th>field</th>\n",
       "      <th>capital,RUB</th>\n",
       "      <th>income,RUB</th>\n",
       "    </tr>\n",
       "  </thead>\n",
       "  <tbody>\n",
       "    <tr>\n",
       "      <th>0</th>\n",
       "      <td>0</td>\n",
       "      <td>0</td>\n",
       "      <td>ЗАО «Власова, Макаров и Шашков»</td>\n",
       "      <td>1143692580560</td>\n",
       "      <td>д. Кирово-Чепецк, пр. Металлургов, д. 537 к. 3...</td>\n",
       "      <td>Жданов Карл Виленович</td>\n",
       "      <td>Маммолог</td>\n",
       "      <td>109092209811</td>\n",
       "      <td>+7 (559) 338-87-76</td>\n",
       "      <td>bogdanovavtonom@yahoo.com</td>\n",
       "      <td>ooo.info</td>\n",
       "      <td>2015-01-07</td>\n",
       "      <td>2006-10-04</td>\n",
       "      <td>21112877268</td>\n",
       "      <td>73423615032</td>\n",
       "      <td>Ulan-Ude</td>\n",
       "      <td>к. Тосно, ул. Пушкинская, д. 896, 617222</td>\n",
       "      <td>Синхронизация критически важных отношений</td>\n",
       "      <td>54875526078</td>\n",
       "      <td>32205872896</td>\n",
       "    </tr>\n",
       "    <tr>\n",
       "      <th>1</th>\n",
       "      <td>1</td>\n",
       "      <td>1</td>\n",
       "      <td>РАО «Тимофеева, Алексеева и Кузнецова»</td>\n",
       "      <td>9342309660697</td>\n",
       "      <td>г. Арзамас, наб. Фестивальная, д. 7 стр. 8/2, ...</td>\n",
       "      <td>Рожков Харлампий Алексеевич</td>\n",
       "      <td>Воспитатель</td>\n",
       "      <td>704229465069</td>\n",
       "      <td>8 (632) 620-8879</td>\n",
       "      <td>safonovantonin@rao.org</td>\n",
       "      <td>ooo.net</td>\n",
       "      <td>1990-05-16</td>\n",
       "      <td>2019-01-18</td>\n",
       "      <td>18393547520</td>\n",
       "      <td>19072454279</td>\n",
       "      <td>Tyoply Stan</td>\n",
       "      <td>ст. Кяхта, бул. Нефтяников, д. 24, 768742</td>\n",
       "      <td>Формирование заказных методик</td>\n",
       "      <td>33876448811</td>\n",
       "      <td>47437574301</td>\n",
       "    </tr>\n",
       "    <tr>\n",
       "      <th>2</th>\n",
       "      <td>2</td>\n",
       "      <td>2</td>\n",
       "      <td>РАО «Юдин-Ефимова»</td>\n",
       "      <td>1277485323451</td>\n",
       "      <td>п. Меренга, алл. Достоевского, д. 3/4 к. 497, ...</td>\n",
       "      <td>Филимон Фадеевич Дьячков</td>\n",
       "      <td>Автослесарь</td>\n",
       "      <td>267655036377</td>\n",
       "      <td>+74925330378</td>\n",
       "      <td>kdorofeev@npo.ru</td>\n",
       "      <td>ao.com</td>\n",
       "      <td>1982-11-04</td>\n",
       "      <td>1986-06-19</td>\n",
       "      <td>56104355836</td>\n",
       "      <td>18629292792</td>\n",
       "      <td>Danilov</td>\n",
       "      <td>клх Усолье Сибирское, алл. Шишкина, д. 3/9 к. ...</td>\n",
       "      <td>Максимизация корпоративных метрик</td>\n",
       "      <td>94073834991</td>\n",
       "      <td>7701710065</td>\n",
       "    </tr>\n",
       "    <tr>\n",
       "      <th>3</th>\n",
       "      <td>3</td>\n",
       "      <td>3</td>\n",
       "      <td>Доронин Инкорпорэйтед</td>\n",
       "      <td>7139161431511</td>\n",
       "      <td>д. Иваново, ул. Красных Партизан, д. 83 к. 4, ...</td>\n",
       "      <td>Крылов Глеб Якубович</td>\n",
       "      <td>Тюремный надзиратель</td>\n",
       "      <td>362024991175</td>\n",
       "      <td>+7 118 643 21 48</td>\n",
       "      <td>nkulakova@mail.ru</td>\n",
       "      <td>ooo.ru</td>\n",
       "      <td>2005-01-02</td>\n",
       "      <td>2004-04-06</td>\n",
       "      <td>10398489351</td>\n",
       "      <td>32502585383</td>\n",
       "      <td>Beryozovsky</td>\n",
       "      <td>г. Заводоуковск, ул. Гражданская, д. 7 к. 8/5,...</td>\n",
       "      <td>Разработка ориентированных на пользователя инт...</td>\n",
       "      <td>86971505490</td>\n",
       "      <td>61148002572</td>\n",
       "    </tr>\n",
       "    <tr>\n",
       "      <th>4</th>\n",
       "      <td>4</td>\n",
       "      <td>4</td>\n",
       "      <td>Объединенная энергетическая компания</td>\n",
       "      <td>6114798049639</td>\n",
       "      <td>к. Энгельс, наб. Шишкина, д. 120, 823828</td>\n",
       "      <td>Субботин Вячеслав Федотович</td>\n",
       "      <td>Инженер-электрик</td>\n",
       "      <td>257948948010</td>\n",
       "      <td>8 642 249 2134</td>\n",
       "      <td>evgraf_18@yahoo.com</td>\n",
       "      <td>gerasimova.biz</td>\n",
       "      <td>1983-07-02</td>\n",
       "      <td>1992-06-20</td>\n",
       "      <td>20074507047</td>\n",
       "      <td>40083207999</td>\n",
       "      <td>Bavly</td>\n",
       "      <td>к. Соль-Илецк, пер. Пригородный, д. 804 к. 1/3...</td>\n",
       "      <td>Монетизация интуитивных веб-сервисов</td>\n",
       "      <td>36351136214</td>\n",
       "      <td>34861533393</td>\n",
       "    </tr>\n",
       "    <tr>\n",
       "      <th>...</th>\n",
       "      <td>...</td>\n",
       "      <td>...</td>\n",
       "      <td>...</td>\n",
       "      <td>...</td>\n",
       "      <td>...</td>\n",
       "      <td>...</td>\n",
       "      <td>...</td>\n",
       "      <td>...</td>\n",
       "      <td>...</td>\n",
       "      <td>...</td>\n",
       "      <td>...</td>\n",
       "      <td>...</td>\n",
       "      <td>...</td>\n",
       "      <td>...</td>\n",
       "      <td>...</td>\n",
       "      <td>...</td>\n",
       "      <td>...</td>\n",
       "      <td>...</td>\n",
       "      <td>...</td>\n",
       "      <td>...</td>\n",
       "    </tr>\n",
       "    <tr>\n",
       "      <th>2105</th>\n",
       "      <td>2105</td>\n",
       "      <td>2105</td>\n",
       "      <td>ИП «Зайцев, Шубин и Дементьева»</td>\n",
       "      <td>6580539599719</td>\n",
       "      <td>к. Чебаркуль, бул. Кольцевой, д. 19 к. 3, 911953</td>\n",
       "      <td>Назар Гордеевич Миронов</td>\n",
       "      <td>Дефектолог</td>\n",
       "      <td>575321775842</td>\n",
       "      <td>8 (390) 976-88-54</td>\n",
       "      <td>juvenali_66@ao.edu</td>\n",
       "      <td>aviakompanija.edu</td>\n",
       "      <td>2007-02-01</td>\n",
       "      <td>2014-10-29</td>\n",
       "      <td>13383530491</td>\n",
       "      <td>62100202894</td>\n",
       "      <td>Gudermes</td>\n",
       "      <td>г. Миасс, пр. Пожарского, д. 39 стр. 880, 386211</td>\n",
       "      <td>Охват прозрачных методик</td>\n",
       "      <td>88659854892</td>\n",
       "      <td>61232741869</td>\n",
       "    </tr>\n",
       "    <tr>\n",
       "      <th>2106</th>\n",
       "      <td>2106</td>\n",
       "      <td>2106</td>\n",
       "      <td>Юдина Лтд</td>\n",
       "      <td>5012825137426</td>\n",
       "      <td>д. Темрюк, ш. Автомобилистов, д. 9 стр. 59, 80...</td>\n",
       "      <td>Игнатов Кирилл Арсенович</td>\n",
       "      <td>Прозектор</td>\n",
       "      <td>703895742672</td>\n",
       "      <td>+7 854 489 5577</td>\n",
       "      <td>gavrila_2019@gmail.com</td>\n",
       "      <td>npo.net</td>\n",
       "      <td>1973-08-13</td>\n",
       "      <td>2001-11-09</td>\n",
       "      <td>40544984216</td>\n",
       "      <td>35386922447</td>\n",
       "      <td>Tver</td>\n",
       "      <td>к. Мыс Шмидта, алл. Комарова, д. 257 стр. 3, 8...</td>\n",
       "      <td>Увеличение кроссплатформенных действий</td>\n",
       "      <td>20441750025</td>\n",
       "      <td>67450329265</td>\n",
       "    </tr>\n",
       "    <tr>\n",
       "      <th>2107</th>\n",
       "      <td>2107</td>\n",
       "      <td>2107</td>\n",
       "      <td>Антонова Лимитед</td>\n",
       "      <td>7659150538516</td>\n",
       "      <td>г. Ноябрьск, пр. Весенний, д. 418, 214696</td>\n",
       "      <td>Александров Радим Ярославович</td>\n",
       "      <td>Дознаватель</td>\n",
       "      <td>576824176737</td>\n",
       "      <td>+7 (135) 034-6805</td>\n",
       "      <td>chernovlongin@rambler.ru</td>\n",
       "      <td>krilov.net</td>\n",
       "      <td>2018-11-03</td>\n",
       "      <td>2016-06-15</td>\n",
       "      <td>39266483828</td>\n",
       "      <td>21174514029</td>\n",
       "      <td>Sharypovo</td>\n",
       "      <td>с. Щелково, алл. Попова, д. 143 к. 811, 155684</td>\n",
       "      <td>Мотивация сенсационных решений</td>\n",
       "      <td>9278989412</td>\n",
       "      <td>77350481806</td>\n",
       "    </tr>\n",
       "    <tr>\n",
       "      <th>2108</th>\n",
       "      <td>2108</td>\n",
       "      <td>2108</td>\n",
       "      <td>ООО «Хохлов Казаков»</td>\n",
       "      <td>9506828156265</td>\n",
       "      <td>к. Липецк, наб. Халтурина, д. 60, 449290</td>\n",
       "      <td>Воробьев Сидор Фролович</td>\n",
       "      <td>Снайпер</td>\n",
       "      <td>157426408379</td>\n",
       "      <td>+7 172 548 4422</td>\n",
       "      <td>qpanova@hotmail.com</td>\n",
       "      <td>oao.org</td>\n",
       "      <td>1980-07-02</td>\n",
       "      <td>2009-11-23</td>\n",
       "      <td>76945273610</td>\n",
       "      <td>95601014531</td>\n",
       "      <td>Privolzhskiy</td>\n",
       "      <td>п. Токма, ш. 50 лет Победы, д. 730, 791941</td>\n",
       "      <td>Охват серверных результатов</td>\n",
       "      <td>84921082372</td>\n",
       "      <td>85023560472</td>\n",
       "    </tr>\n",
       "    <tr>\n",
       "      <th>2109</th>\n",
       "      <td>2109</td>\n",
       "      <td>2109</td>\n",
       "      <td>ИП «Кабанов Ситникова»</td>\n",
       "      <td>5283860848622</td>\n",
       "      <td>г. Котлас, бул. 30 лет Победы, д. 73, 801698</td>\n",
       "      <td>Эммануил Аверьянович Фомичев</td>\n",
       "      <td>Филолог</td>\n",
       "      <td>508412506243</td>\n",
       "      <td>+7 224 287 5729</td>\n",
       "      <td>novikovprokofi@gmail.com</td>\n",
       "      <td>kompanija.com</td>\n",
       "      <td>2001-05-17</td>\n",
       "      <td>2014-01-21</td>\n",
       "      <td>86322929141</td>\n",
       "      <td>84557726914</td>\n",
       "      <td>Dyat‚Äôkovo</td>\n",
       "      <td>с. Усмань, ш. Песочное, д. 754 стр. 3, 031897</td>\n",
       "      <td>Итерация передовых моделей</td>\n",
       "      <td>38622960779</td>\n",
       "      <td>10015090473</td>\n",
       "    </tr>\n",
       "  </tbody>\n",
       "</table>\n",
       "<p>2110 rows × 20 columns</p>\n",
       "</div>"
      ],
      "text/plain": [
       "      Unnamed: 0     #                                    name     reg_number  \\\n",
       "0              0     0         ЗАО «Власова, Макаров и Шашков»  1143692580560   \n",
       "1              1     1  РАО «Тимофеева, Алексеева и Кузнецова»  9342309660697   \n",
       "2              2     2                      РАО «Юдин-Ефимова»  1277485323451   \n",
       "3              3     3                   Доронин Инкорпорэйтед  7139161431511   \n",
       "4              4     4    Объединенная энергетическая компания  6114798049639   \n",
       "...          ...   ...                                     ...            ...   \n",
       "2105        2105  2105         ИП «Зайцев, Шубин и Дементьева»  6580539599719   \n",
       "2106        2106  2106                               Юдина Лтд  5012825137426   \n",
       "2107        2107  2107                        Антонова Лимитед  7659150538516   \n",
       "2108        2108  2108                    ООО «Хохлов Казаков»  9506828156265   \n",
       "2109        2109  2109                  ИП «Кабанов Ситникова»  5283860848622   \n",
       "\n",
       "                                                address  \\\n",
       "0     д. Кирово-Чепецк, пр. Металлургов, д. 537 к. 3...   \n",
       "1     г. Арзамас, наб. Фестивальная, д. 7 стр. 8/2, ...   \n",
       "2     п. Меренга, алл. Достоевского, д. 3/4 к. 497, ...   \n",
       "3     д. Иваново, ул. Красных Партизан, д. 83 к. 4, ...   \n",
       "4              к. Энгельс, наб. Шишкина, д. 120, 823828   \n",
       "...                                                 ...   \n",
       "2105   к. Чебаркуль, бул. Кольцевой, д. 19 к. 3, 911953   \n",
       "2106  д. Темрюк, ш. Автомобилистов, д. 9 стр. 59, 80...   \n",
       "2107          г. Ноябрьск, пр. Весенний, д. 418, 214696   \n",
       "2108           к. Липецк, наб. Халтурина, д. 60, 449290   \n",
       "2109       г. Котлас, бул. 30 лет Победы, д. 73, 801698   \n",
       "\n",
       "                               head              head_job      head_inn  \\\n",
       "0             Жданов Карл Виленович              Маммолог  109092209811   \n",
       "1       Рожков Харлампий Алексеевич           Воспитатель  704229465069   \n",
       "2          Филимон Фадеевич Дьячков           Автослесарь  267655036377   \n",
       "3              Крылов Глеб Якубович  Тюремный надзиратель  362024991175   \n",
       "4       Субботин Вячеслав Федотович      Инженер-электрик  257948948010   \n",
       "...                             ...                   ...           ...   \n",
       "2105        Назар Гордеевич Миронов            Дефектолог  575321775842   \n",
       "2106       Игнатов Кирилл Арсенович             Прозектор  703895742672   \n",
       "2107  Александров Радим Ярославович           Дознаватель  576824176737   \n",
       "2108        Воробьев Сидор Фролович               Снайпер  157426408379   \n",
       "2109   Эммануил Аверьянович Фомичев               Филолог  508412506243   \n",
       "\n",
       "                   phone                      email               site  \\\n",
       "0     +7 (559) 338-87-76  bogdanovavtonom@yahoo.com           ooo.info   \n",
       "1       8 (632) 620-8879     safonovantonin@rao.org            ooo.net   \n",
       "2           +74925330378           kdorofeev@npo.ru             ao.com   \n",
       "3       +7 118 643 21 48          nkulakova@mail.ru             ooo.ru   \n",
       "4         8 642 249 2134        evgraf_18@yahoo.com     gerasimova.biz   \n",
       "...                  ...                        ...                ...   \n",
       "2105   8 (390) 976-88-54         juvenali_66@ao.edu  aviakompanija.edu   \n",
       "2106     +7 854 489 5577     gavrila_2019@gmail.com            npo.net   \n",
       "2107   +7 (135) 034-6805   chernovlongin@rambler.ru         krilov.net   \n",
       "2108     +7 172 548 4422        qpanova@hotmail.com            oao.org   \n",
       "2109     +7 224 287 5729   novikovprokofi@gmail.com      kompanija.com   \n",
       "\n",
       "     registration_date nalogoplatelschik_code   oktmo_code   okato_code  \\\n",
       "0           2015-01-07             2006-10-04  21112877268  73423615032   \n",
       "1           1990-05-16             2019-01-18  18393547520  19072454279   \n",
       "2           1982-11-04             1986-06-19  56104355836  18629292792   \n",
       "3           2005-01-02             2004-04-06  10398489351  32502585383   \n",
       "4           1983-07-02             1992-06-20  20074507047  40083207999   \n",
       "...                ...                    ...          ...          ...   \n",
       "2105        2007-02-01             2014-10-29  13383530491  62100202894   \n",
       "2106        1973-08-13             2001-11-09  40544984216  35386922447   \n",
       "2107        2018-11-03             2016-06-15  39266483828  21174514029   \n",
       "2108        1980-07-02             2009-11-23  76945273610  95601014531   \n",
       "2109        2001-05-17             2014-01-21  86322929141  84557726914   \n",
       "\n",
       "     registration_region                                         okato_name  \\\n",
       "0               Ulan-Ude           к. Тосно, ул. Пушкинская, д. 896, 617222   \n",
       "1            Tyoply Stan          ст. Кяхта, бул. Нефтяников, д. 24, 768742   \n",
       "2                Danilov  клх Усолье Сибирское, алл. Шишкина, д. 3/9 к. ...   \n",
       "3            Beryozovsky  г. Заводоуковск, ул. Гражданская, д. 7 к. 8/5,...   \n",
       "4                  Bavly  к. Соль-Илецк, пер. Пригородный, д. 804 к. 1/3...   \n",
       "...                  ...                                                ...   \n",
       "2105            Gudermes   г. Миасс, пр. Пожарского, д. 39 стр. 880, 386211   \n",
       "2106                Tver  к. Мыс Шмидта, алл. Комарова, д. 257 стр. 3, 8...   \n",
       "2107           Sharypovo     с. Щелково, алл. Попова, д. 143 к. 811, 155684   \n",
       "2108        Privolzhskiy         п. Токма, ш. 50 лет Победы, д. 730, 791941   \n",
       "2109         Dyat‚Äôkovo      с. Усмань, ш. Песочное, д. 754 стр. 3, 031897   \n",
       "\n",
       "                                                  field  capital,RUB  \\\n",
       "0             Синхронизация критически важных отношений  54875526078   \n",
       "1                         Формирование заказных методик  33876448811   \n",
       "2                     Максимизация корпоративных метрик  94073834991   \n",
       "3     Разработка ориентированных на пользователя инт...  86971505490   \n",
       "4                  Монетизация интуитивных веб-сервисов  36351136214   \n",
       "...                                                 ...          ...   \n",
       "2105                           Охват прозрачных методик  88659854892   \n",
       "2106             Увеличение кроссплатформенных действий  20441750025   \n",
       "2107                     Мотивация сенсационных решений   9278989412   \n",
       "2108                        Охват серверных результатов  84921082372   \n",
       "2109                         Итерация передовых моделей  38622960779   \n",
       "\n",
       "       income,RUB  \n",
       "0     32205872896  \n",
       "1     47437574301  \n",
       "2      7701710065  \n",
       "3     61148002572  \n",
       "4     34861533393  \n",
       "...           ...  \n",
       "2105  61232741869  \n",
       "2106  67450329265  \n",
       "2107  77350481806  \n",
       "2108  85023560472  \n",
       "2109  10015090473  \n",
       "\n",
       "[2110 rows x 20 columns]"
      ]
     },
     "execution_count": 26,
     "metadata": {},
     "output_type": "execute_result"
    }
   ],
   "source": [
    "data_1"
   ]
  },
  {
   "cell_type": "code",
   "execution_count": 37,
   "metadata": {
    "collapsed": true
   },
   "outputs": [
    {
     "data": {
      "text/html": [
       "<div>\n",
       "<style scoped>\n",
       "    .dataframe tbody tr th:only-of-type {\n",
       "        vertical-align: middle;\n",
       "    }\n",
       "\n",
       "    .dataframe tbody tr th {\n",
       "        vertical-align: top;\n",
       "    }\n",
       "\n",
       "    .dataframe thead th {\n",
       "        text-align: right;\n",
       "    }\n",
       "</style>\n",
       "<table border=\"1\" class=\"dataframe\">\n",
       "  <thead>\n",
       "    <tr style=\"text-align: right;\">\n",
       "      <th></th>\n",
       "      <th>head_inn</th>\n",
       "    </tr>\n",
       "  </thead>\n",
       "  <tbody>\n",
       "    <tr>\n",
       "      <th>0</th>\n",
       "      <td>394609645484</td>\n",
       "    </tr>\n",
       "    <tr>\n",
       "      <th>1</th>\n",
       "      <td>281578625230</td>\n",
       "    </tr>\n",
       "    <tr>\n",
       "      <th>2</th>\n",
       "      <td>923769811917</td>\n",
       "    </tr>\n",
       "    <tr>\n",
       "      <th>3</th>\n",
       "      <td>998694734508</td>\n",
       "    </tr>\n",
       "    <tr>\n",
       "      <th>4</th>\n",
       "      <td>271011690615</td>\n",
       "    </tr>\n",
       "    <tr>\n",
       "      <th>...</th>\n",
       "      <td>...</td>\n",
       "    </tr>\n",
       "    <tr>\n",
       "      <th>110</th>\n",
       "      <td>664306216794</td>\n",
       "    </tr>\n",
       "    <tr>\n",
       "      <th>111</th>\n",
       "      <td>991951385204</td>\n",
       "    </tr>\n",
       "    <tr>\n",
       "      <th>112</th>\n",
       "      <td>129413497752</td>\n",
       "    </tr>\n",
       "    <tr>\n",
       "      <th>113</th>\n",
       "      <td>447901012904</td>\n",
       "    </tr>\n",
       "    <tr>\n",
       "      <th>114</th>\n",
       "      <td>634037614688</td>\n",
       "    </tr>\n",
       "  </tbody>\n",
       "</table>\n",
       "<p>115 rows × 1 columns</p>\n",
       "</div>"
      ],
      "text/plain": [
       "         head_inn\n",
       "0    394609645484\n",
       "1    281578625230\n",
       "2    923769811917\n",
       "3    998694734508\n",
       "4    271011690615\n",
       "..            ...\n",
       "110  664306216794\n",
       "111  991951385204\n",
       "112  129413497752\n",
       "113  447901012904\n",
       "114  634037614688\n",
       "\n",
       "[115 rows x 1 columns]"
      ]
     },
     "execution_count": 37,
     "metadata": {},
     "output_type": "execute_result"
    }
   ],
   "source": [
    "#достаем названия инн\n",
    "file = open('data_lessons/necessary_inn.txt')\n",
    "a = file.readlines()\n",
    "inn = pd.DataFrame(a, columns = ['head_inn'])\n",
    "inn['head_inn'] = inn['head_inn'].apply(lambda x: x.replace('\\n',''))\n",
    "inn"
   ]
  },
  {
   "cell_type": "code",
   "execution_count": 39,
   "metadata": {},
   "outputs": [],
   "source": [
    "# и далее фильтруем таблицу эксель\n",
    "filtr_inn = list(inn['head_inn'])\n",
    "data_1_ = data_1.query(\"head_inn in @filtr_inn\")"
   ]
  },
  {
   "cell_type": "code",
   "execution_count": 42,
   "metadata": {},
   "outputs": [],
   "source": [
    "# извлечение csv из zip\n",
    "ads_data = pd.read_csv('data_lessons/ads_data.csv.zip', compression='zip')"
   ]
  },
  {
   "cell_type": "code",
   "execution_count": null,
   "metadata": {},
   "outputs": [],
   "source": [
    "# извлечение файлов из zip\n",
    "\n",
    "import zipfile\n",
    "         \n",
    "fantasy_zip = zipfile.ZipFile('C:\\\\Stories\\\\Fantasy\\\\archive.zip')\n",
    "fantasy_zip.extractall('C:\\\\Library\\\\Stories\\\\Fantasy')\n",
    " \n",
    "fantasy_zip.close()"
   ]
  },
  {
   "cell_type": "code",
   "execution_count": null,
   "metadata": {},
   "outputs": [],
   "source": [
    "#gzip распаковка\n",
    "import gzip\n",
    "with gzip.open('report_1.csv.gz') as f:\n",
    "    r1 = pd.read_csv(f, sep = ',')"
   ]
  },
  {
   "cell_type": "code",
   "execution_count": 43,
   "metadata": {},
   "outputs": [
    {
     "data": {
      "text/html": [
       "<div>\n",
       "<style scoped>\n",
       "    .dataframe tbody tr th:only-of-type {\n",
       "        vertical-align: middle;\n",
       "    }\n",
       "\n",
       "    .dataframe tbody tr th {\n",
       "        vertical-align: top;\n",
       "    }\n",
       "\n",
       "    .dataframe thead th {\n",
       "        text-align: right;\n",
       "    }\n",
       "</style>\n",
       "<table border=\"1\" class=\"dataframe\">\n",
       "  <thead>\n",
       "    <tr style=\"text-align: right;\">\n",
       "      <th></th>\n",
       "      <th>ad_id</th>\n",
       "      <th>time</th>\n",
       "      <th>event</th>\n",
       "      <th>date</th>\n",
       "      <th>ad_cost_type</th>\n",
       "      <th>has_video</th>\n",
       "      <th>client_union_id</th>\n",
       "      <th>campaign_union_id</th>\n",
       "      <th>platform</th>\n",
       "      <th>ad_cost</th>\n",
       "      <th>target_audience_count</th>\n",
       "      <th>user_id</th>\n",
       "    </tr>\n",
       "  </thead>\n",
       "  <tbody>\n",
       "    <tr>\n",
       "      <th>0</th>\n",
       "      <td>23456</td>\n",
       "      <td>1554076848</td>\n",
       "      <td>view</td>\n",
       "      <td>2019-04-01</td>\n",
       "      <td>CPM</td>\n",
       "      <td>0</td>\n",
       "      <td>5681</td>\n",
       "      <td>23456</td>\n",
       "      <td>android</td>\n",
       "      <td>190.0</td>\n",
       "      <td>125560</td>\n",
       "      <td>793</td>\n",
       "    </tr>\n",
       "    <tr>\n",
       "      <th>1</th>\n",
       "      <td>111941</td>\n",
       "      <td>1554135866</td>\n",
       "      <td>view</td>\n",
       "      <td>2019-04-01</td>\n",
       "      <td>CPM</td>\n",
       "      <td>0</td>\n",
       "      <td>111793</td>\n",
       "      <td>111941</td>\n",
       "      <td>ios</td>\n",
       "      <td>215.2</td>\n",
       "      <td>32277</td>\n",
       "      <td>1041</td>\n",
       "    </tr>\n",
       "    <tr>\n",
       "      <th>2</th>\n",
       "      <td>111941</td>\n",
       "      <td>1554135866</td>\n",
       "      <td>view</td>\n",
       "      <td>2019-04-01</td>\n",
       "      <td>CPM</td>\n",
       "      <td>0</td>\n",
       "      <td>111793</td>\n",
       "      <td>111941</td>\n",
       "      <td>ios</td>\n",
       "      <td>215.2</td>\n",
       "      <td>32277</td>\n",
       "      <td>41</td>\n",
       "    </tr>\n",
       "    <tr>\n",
       "      <th>3</th>\n",
       "      <td>42987</td>\n",
       "      <td>1554135866</td>\n",
       "      <td>view</td>\n",
       "      <td>2019-04-01</td>\n",
       "      <td>CPM</td>\n",
       "      <td>0</td>\n",
       "      <td>28541</td>\n",
       "      <td>42985</td>\n",
       "      <td>ios</td>\n",
       "      <td>199.1</td>\n",
       "      <td>80160</td>\n",
       "      <td>898</td>\n",
       "    </tr>\n",
       "    <tr>\n",
       "      <th>4</th>\n",
       "      <td>23456</td>\n",
       "      <td>1554135866</td>\n",
       "      <td>view</td>\n",
       "      <td>2019-04-01</td>\n",
       "      <td>CPM</td>\n",
       "      <td>0</td>\n",
       "      <td>5681</td>\n",
       "      <td>23456</td>\n",
       "      <td>web</td>\n",
       "      <td>190.0</td>\n",
       "      <td>125560</td>\n",
       "      <td>29</td>\n",
       "    </tr>\n",
       "  </tbody>\n",
       "</table>\n",
       "</div>"
      ],
      "text/plain": [
       "    ad_id        time event        date ad_cost_type  has_video  \\\n",
       "0   23456  1554076848  view  2019-04-01          CPM          0   \n",
       "1  111941  1554135866  view  2019-04-01          CPM          0   \n",
       "2  111941  1554135866  view  2019-04-01          CPM          0   \n",
       "3   42987  1554135866  view  2019-04-01          CPM          0   \n",
       "4   23456  1554135866  view  2019-04-01          CPM          0   \n",
       "\n",
       "   client_union_id  campaign_union_id platform  ad_cost  \\\n",
       "0             5681              23456  android    190.0   \n",
       "1           111793             111941      ios    215.2   \n",
       "2           111793             111941      ios    215.2   \n",
       "3            28541              42985      ios    199.1   \n",
       "4             5681              23456      web    190.0   \n",
       "\n",
       "   target_audience_count  user_id  \n",
       "0                 125560      793  \n",
       "1                  32277     1041  \n",
       "2                  32277       41  \n",
       "3                  80160      898  \n",
       "4                 125560       29  "
      ]
     },
     "execution_count": 43,
     "metadata": {},
     "output_type": "execute_result"
    }
   ],
   "source": [
    "ads_data.head()"
   ]
  },
  {
   "cell_type": "markdown",
   "metadata": {},
   "source": [
    "## json"
   ]
  },
  {
   "cell_type": "code",
   "execution_count": null,
   "metadata": {},
   "outputs": [],
   "source": [
    "r = requests.get(\"https://search-maps.yandex.ru/v1/?text=Автосервис,Москва,ул. Смоленская&type=biz&lang=ru_RU&apikey=5d1b9d12-cd98-428c-b107-349ebff1982d\")"
   ]
  },
  {
   "cell_type": "code",
   "execution_count": null,
   "metadata": {},
   "outputs": [],
   "source": [
    "#сохраняем json\n",
    "with open('personal.json', 'w') as json_file:\n",
    "    json.dump(r.text, json_file)"
   ]
  },
  {
   "cell_type": "code",
   "execution_count": null,
   "metadata": {},
   "outputs": [],
   "source": [
    "#загружаем json\n",
    "with open('personal.json', 'r') as j:\n",
    "    json_data = json.load(j)"
   ]
  },
  {
   "cell_type": "code",
   "execution_count": null,
   "metadata": {},
   "outputs": [],
   "source": [
    "#сохр в таблицу \n",
    "a = pd.json_normalize(json.loads(r.text), max_level=0)['features'][0]\n",
    "pd.json_normalize(a)"
   ]
  },
  {
   "cell_type": "code",
   "execution_count": null,
   "metadata": {},
   "outputs": [],
   "source": []
  },
  {
   "cell_type": "code",
   "execution_count": null,
   "metadata": {},
   "outputs": [],
   "source": []
  },
  {
   "cell_type": "markdown",
   "metadata": {},
   "source": [
    "# Статистика"
   ]
  },
  {
   "cell_type": "code",
   "execution_count": 60,
   "metadata": {},
   "outputs": [
    {
     "data": {
      "text/html": [
       "<div>\n",
       "<style scoped>\n",
       "    .dataframe tbody tr th:only-of-type {\n",
       "        vertical-align: middle;\n",
       "    }\n",
       "\n",
       "    .dataframe tbody tr th {\n",
       "        vertical-align: top;\n",
       "    }\n",
       "\n",
       "    .dataframe thead th {\n",
       "        text-align: right;\n",
       "    }\n",
       "</style>\n",
       "<table border=\"1\" class=\"dataframe\">\n",
       "  <thead>\n",
       "    <tr style=\"text-align: right;\">\n",
       "      <th></th>\n",
       "      <th>ad_id</th>\n",
       "      <th>time</th>\n",
       "      <th>has_video</th>\n",
       "      <th>client_union_id</th>\n",
       "      <th>campaign_union_id</th>\n",
       "      <th>ad_cost</th>\n",
       "      <th>target_audience_count</th>\n",
       "      <th>user_id</th>\n",
       "    </tr>\n",
       "  </thead>\n",
       "  <tbody>\n",
       "    <tr>\n",
       "      <th>count</th>\n",
       "      <td>3.176714e+06</td>\n",
       "      <td>3.176714e+06</td>\n",
       "      <td>3.176714e+06</td>\n",
       "      <td>3.176714e+06</td>\n",
       "      <td>3.176714e+06</td>\n",
       "      <td>3.176714e+06</td>\n",
       "      <td>3.176714e+06</td>\n",
       "      <td>3.176714e+06</td>\n",
       "    </tr>\n",
       "    <tr>\n",
       "      <th>mean</th>\n",
       "      <td>1.028316e+05</td>\n",
       "      <td>1.554441e+09</td>\n",
       "      <td>2.255161e-03</td>\n",
       "      <td>1.008235e+05</td>\n",
       "      <td>1.025734e+05</td>\n",
       "      <td>1.946914e+02</td>\n",
       "      <td>8.359324e+05</td>\n",
       "      <td>4.167535e+03</td>\n",
       "    </tr>\n",
       "    <tr>\n",
       "      <th>std</th>\n",
       "      <td>2.557407e+04</td>\n",
       "      <td>8.225481e+04</td>\n",
       "      <td>4.743496e-02</td>\n",
       "      <td>2.909663e+04</td>\n",
       "      <td>2.547980e+04</td>\n",
       "      <td>2.478399e+01</td>\n",
       "      <td>6.136294e+06</td>\n",
       "      <td>2.038522e+03</td>\n",
       "    </tr>\n",
       "    <tr>\n",
       "      <th>min</th>\n",
       "      <td>3.000000e+00</td>\n",
       "      <td>1.554077e+09</td>\n",
       "      <td>0.000000e+00</td>\n",
       "      <td>1.000000e+00</td>\n",
       "      <td>1.000000e+00</td>\n",
       "      <td>4.240000e+01</td>\n",
       "      <td>1.860000e+02</td>\n",
       "      <td>1.000000e+00</td>\n",
       "    </tr>\n",
       "    <tr>\n",
       "      <th>25%</th>\n",
       "      <td>1.125830e+05</td>\n",
       "      <td>1.554447e+09</td>\n",
       "      <td>0.000000e+00</td>\n",
       "      <td>1.118180e+05</td>\n",
       "      <td>1.122600e+05</td>\n",
       "      <td>1.994000e+02</td>\n",
       "      <td>2.394080e+05</td>\n",
       "      <td>2.508000e+03</td>\n",
       "    </tr>\n",
       "    <tr>\n",
       "      <th>50%</th>\n",
       "      <td>1.125830e+05</td>\n",
       "      <td>1.554470e+09</td>\n",
       "      <td>0.000000e+00</td>\n",
       "      <td>1.118180e+05</td>\n",
       "      <td>1.122600e+05</td>\n",
       "      <td>1.994000e+02</td>\n",
       "      <td>2.394080e+05</td>\n",
       "      <td>4.421000e+03</td>\n",
       "    </tr>\n",
       "    <tr>\n",
       "      <th>75%</th>\n",
       "      <td>1.125830e+05</td>\n",
       "      <td>1.554488e+09</td>\n",
       "      <td>0.000000e+00</td>\n",
       "      <td>1.118180e+05</td>\n",
       "      <td>1.122600e+05</td>\n",
       "      <td>1.994000e+02</td>\n",
       "      <td>2.394080e+05</td>\n",
       "      <td>5.855000e+03</td>\n",
       "    </tr>\n",
       "    <tr>\n",
       "      <th>max</th>\n",
       "      <td>1.220860e+05</td>\n",
       "      <td>1.554509e+09</td>\n",
       "      <td>1.000000e+00</td>\n",
       "      <td>1.220860e+05</td>\n",
       "      <td>1.220860e+05</td>\n",
       "      <td>2.254000e+02</td>\n",
       "      <td>1.549714e+08</td>\n",
       "      <td>8.490000e+03</td>\n",
       "    </tr>\n",
       "  </tbody>\n",
       "</table>\n",
       "</div>"
      ],
      "text/plain": [
       "              ad_id          time     has_video  client_union_id  \\\n",
       "count  3.176714e+06  3.176714e+06  3.176714e+06     3.176714e+06   \n",
       "mean   1.028316e+05  1.554441e+09  2.255161e-03     1.008235e+05   \n",
       "std    2.557407e+04  8.225481e+04  4.743496e-02     2.909663e+04   \n",
       "min    3.000000e+00  1.554077e+09  0.000000e+00     1.000000e+00   \n",
       "25%    1.125830e+05  1.554447e+09  0.000000e+00     1.118180e+05   \n",
       "50%    1.125830e+05  1.554470e+09  0.000000e+00     1.118180e+05   \n",
       "75%    1.125830e+05  1.554488e+09  0.000000e+00     1.118180e+05   \n",
       "max    1.220860e+05  1.554509e+09  1.000000e+00     1.220860e+05   \n",
       "\n",
       "       campaign_union_id       ad_cost  target_audience_count       user_id  \n",
       "count       3.176714e+06  3.176714e+06           3.176714e+06  3.176714e+06  \n",
       "mean        1.025734e+05  1.946914e+02           8.359324e+05  4.167535e+03  \n",
       "std         2.547980e+04  2.478399e+01           6.136294e+06  2.038522e+03  \n",
       "min         1.000000e+00  4.240000e+01           1.860000e+02  1.000000e+00  \n",
       "25%         1.122600e+05  1.994000e+02           2.394080e+05  2.508000e+03  \n",
       "50%         1.122600e+05  1.994000e+02           2.394080e+05  4.421000e+03  \n",
       "75%         1.122600e+05  1.994000e+02           2.394080e+05  5.855000e+03  \n",
       "max         1.220860e+05  2.254000e+02           1.549714e+08  8.490000e+03  "
      ]
     },
     "execution_count": 60,
     "metadata": {},
     "output_type": "execute_result"
    }
   ],
   "source": [
    "#основные стат показатели\n",
    "ads_data.describe()"
   ]
  },
  {
   "cell_type": "code",
   "execution_count": 64,
   "metadata": {},
   "outputs": [
    {
     "name": "stdout",
     "output_type": "stream",
     "text": [
      "1554469525.0\n",
      "1554441034.675119\n",
      "1554487984.0\n"
     ]
    }
   ],
   "source": [
    "print(ads_data['time'].median())\n",
    "print(ads_data['time'].mean())\n",
    "print(ads_data['time'].quantile(q=0.75))"
   ]
  },
  {
   "cell_type": "code",
   "execution_count": 66,
   "metadata": {},
   "outputs": [
    {
     "name": "stdout",
     "output_type": "stream",
     "text": [
      "       ad_id        time  has_video  client_union_id  campaign_union_id  \\\n",
      "0.50  112583  1554469525          0           111818             112260   \n",
      "0.75  112583  1554487984          0           111818             112260   \n",
      "\n",
      "      ad_cost  target_audience_count  user_id  \n",
      "0.50    199.4                 239408     4421  \n",
      "0.75    199.4                 239408     5855  \n"
     ]
    }
   ],
   "source": [
    "#вывод квантилей (higher берет наибольшую точку из смжных)\n",
    "print(ads_data.quantile(q=[0.5,0.75], interpolation = 'higher'))"
   ]
  },
  {
   "cell_type": "markdown",
   "metadata": {},
   "source": [
    "# Оконные функции"
   ]
  },
  {
   "cell_type": "code",
   "execution_count": 125,
   "metadata": {},
   "outputs": [
    {
     "data": {
      "text/html": [
       "<div>\n",
       "<style scoped>\n",
       "    .dataframe tbody tr th:only-of-type {\n",
       "        vertical-align: middle;\n",
       "    }\n",
       "\n",
       "    .dataframe tbody tr th {\n",
       "        vertical-align: top;\n",
       "    }\n",
       "\n",
       "    .dataframe thead th {\n",
       "        text-align: right;\n",
       "    }\n",
       "</style>\n",
       "<table border=\"1\" class=\"dataframe\">\n",
       "  <thead>\n",
       "    <tr style=\"text-align: right;\">\n",
       "      <th></th>\n",
       "      <th>ad_id</th>\n",
       "      <th>time</th>\n",
       "      <th>event</th>\n",
       "      <th>date</th>\n",
       "      <th>ad_cost_type</th>\n",
       "      <th>has_video</th>\n",
       "      <th>client_union_id</th>\n",
       "      <th>campaign_union_id</th>\n",
       "      <th>platform</th>\n",
       "      <th>ad_cost</th>\n",
       "      <th>target_audience_count</th>\n",
       "      <th>user_id</th>\n",
       "    </tr>\n",
       "  </thead>\n",
       "  <tbody>\n",
       "    <tr>\n",
       "      <th>0</th>\n",
       "      <td>23456</td>\n",
       "      <td>1554076848</td>\n",
       "      <td>view</td>\n",
       "      <td>2019-04-01</td>\n",
       "      <td>CPM</td>\n",
       "      <td>0</td>\n",
       "      <td>5681</td>\n",
       "      <td>23456</td>\n",
       "      <td>android</td>\n",
       "      <td>190.0</td>\n",
       "      <td>125560</td>\n",
       "      <td>793</td>\n",
       "    </tr>\n",
       "    <tr>\n",
       "      <th>1</th>\n",
       "      <td>111941</td>\n",
       "      <td>1554135866</td>\n",
       "      <td>view</td>\n",
       "      <td>2019-04-01</td>\n",
       "      <td>CPM</td>\n",
       "      <td>0</td>\n",
       "      <td>111793</td>\n",
       "      <td>111941</td>\n",
       "      <td>ios</td>\n",
       "      <td>215.2</td>\n",
       "      <td>32277</td>\n",
       "      <td>1041</td>\n",
       "    </tr>\n",
       "    <tr>\n",
       "      <th>2</th>\n",
       "      <td>111941</td>\n",
       "      <td>1554135866</td>\n",
       "      <td>view</td>\n",
       "      <td>2019-04-01</td>\n",
       "      <td>CPM</td>\n",
       "      <td>0</td>\n",
       "      <td>111793</td>\n",
       "      <td>111941</td>\n",
       "      <td>ios</td>\n",
       "      <td>215.2</td>\n",
       "      <td>32277</td>\n",
       "      <td>41</td>\n",
       "    </tr>\n",
       "    <tr>\n",
       "      <th>3</th>\n",
       "      <td>42987</td>\n",
       "      <td>1554135866</td>\n",
       "      <td>view</td>\n",
       "      <td>2019-04-01</td>\n",
       "      <td>CPM</td>\n",
       "      <td>0</td>\n",
       "      <td>28541</td>\n",
       "      <td>42985</td>\n",
       "      <td>ios</td>\n",
       "      <td>199.1</td>\n",
       "      <td>80160</td>\n",
       "      <td>898</td>\n",
       "    </tr>\n",
       "    <tr>\n",
       "      <th>4</th>\n",
       "      <td>23456</td>\n",
       "      <td>1554135866</td>\n",
       "      <td>view</td>\n",
       "      <td>2019-04-01</td>\n",
       "      <td>CPM</td>\n",
       "      <td>0</td>\n",
       "      <td>5681</td>\n",
       "      <td>23456</td>\n",
       "      <td>web</td>\n",
       "      <td>190.0</td>\n",
       "      <td>125560</td>\n",
       "      <td>29</td>\n",
       "    </tr>\n",
       "  </tbody>\n",
       "</table>\n",
       "</div>"
      ],
      "text/plain": [
       "    ad_id        time event        date ad_cost_type  has_video  \\\n",
       "0   23456  1554076848  view  2019-04-01          CPM          0   \n",
       "1  111941  1554135866  view  2019-04-01          CPM          0   \n",
       "2  111941  1554135866  view  2019-04-01          CPM          0   \n",
       "3   42987  1554135866  view  2019-04-01          CPM          0   \n",
       "4   23456  1554135866  view  2019-04-01          CPM          0   \n",
       "\n",
       "   client_union_id  campaign_union_id platform  ad_cost  \\\n",
       "0             5681              23456  android    190.0   \n",
       "1           111793             111941      ios    215.2   \n",
       "2           111793             111941      ios    215.2   \n",
       "3            28541              42985      ios    199.1   \n",
       "4             5681              23456      web    190.0   \n",
       "\n",
       "   target_audience_count  user_id  \n",
       "0                 125560      793  \n",
       "1                  32277     1041  \n",
       "2                  32277       41  \n",
       "3                  80160      898  \n",
       "4                 125560       29  "
      ]
     },
     "execution_count": 125,
     "metadata": {},
     "output_type": "execute_result"
    }
   ],
   "source": [
    "ads_data.head()"
   ]
  },
  {
   "cell_type": "code",
   "execution_count": 127,
   "metadata": {},
   "outputs": [
    {
     "data": {
      "text/plain": [
       "0       NaN\n",
       "1       NaN\n",
       "2       NaN\n",
       "3       NaN\n",
       "4    201.90\n",
       "5    174.60\n",
       "6    142.26\n",
       "7    140.46\n",
       "8    138.16\n",
       "9    143.26\n",
       "Name: ad_cost, dtype: float64"
      ]
     },
     "execution_count": 127,
     "metadata": {},
     "output_type": "execute_result"
    }
   ],
   "source": [
    "#rolling(5) -  окно функции (5 значений) .mean() - агрегация\n",
    "ads_data['ad_cost'].rolling(5).mean().head(10)"
   ]
  },
  {
   "cell_type": "code",
   "execution_count": 128,
   "metadata": {},
   "outputs": [
    {
     "data": {
      "text/plain": [
       "0    190.000\n",
       "1    202.600\n",
       "2    206.800\n",
       "3    204.875\n",
       "4    201.900\n",
       "5    174.600\n",
       "6    142.260\n",
       "7    140.460\n",
       "8    138.160\n",
       "9    143.260\n",
       "Name: ad_cost, dtype: float64"
      ]
     },
     "execution_count": 128,
     "metadata": {},
     "output_type": "execute_result"
    }
   ],
   "source": [
    "# min_periods - указывает минимум значений для агрегации, если нам не важно какое окно функции\n",
    "ads_data['ad_cost'].rolling(5, min_periods=1).mean().head(10)"
   ]
  },
  {
   "cell_type": "code",
   "execution_count": 130,
   "metadata": {},
   "outputs": [
    {
     "data": {
      "text/plain": [
       "0       NaN\n",
       "1    202.60\n",
       "2    215.20\n",
       "3    207.15\n",
       "4    194.55\n",
       "5    121.75\n",
       "6     53.50\n",
       "7    129.85\n",
       "8    196.90\n",
       "9    201.55\n",
       "Name: ad_cost, dtype: float64"
      ]
     },
     "execution_count": 130,
     "metadata": {},
     "output_type": "execute_result"
    }
   ],
   "source": [
    "#скользящее среднее (берется (текущее + текущее-1) / 2)\n",
    "ads_data['ad_cost'].rolling(window=2).mean().head(10)"
   ]
  },
  {
   "cell_type": "code",
   "execution_count": 131,
   "metadata": {},
   "outputs": [
    {
     "data": {
      "text/plain": [
       "0           NaN\n",
       "1    206.800000\n",
       "2    209.833333\n",
       "3    201.433333\n",
       "4    147.533333\n",
       "5     99.000000\n",
       "6    104.400000\n",
       "7    149.100000\n",
       "8    203.100000\n",
       "9    197.300000\n",
       "Name: ad_cost, dtype: float64"
      ]
     },
     "execution_count": 131,
     "metadata": {},
     "output_type": "execute_result"
    }
   ],
   "source": [
    "#центрированное скользящее среднее (берется (текущее + текущее-1 + текущее+1) / 3)\n",
    "ads_data['ad_cost'].rolling(window=3, center = True).mean().head(10)"
   ]
  },
  {
   "cell_type": "markdown",
   "metadata": {},
   "source": [
    "### Экспоненциальное сглаживание\n",
    "\n",
    "Следующий шаг — экспоненциальное сглаживание. В предыдущем подходе (скользящее среднее), использовались \n",
    "n последних наблюдений и все они имели равный вес. В данном случае веса экспоненциально уменьшаются, т.е. более \"старые\" события имеют меньший вес, а для подсчета используются все имеющиеся наблюдения."
   ]
  },
  {
   "cell_type": "code",
   "execution_count": 132,
   "metadata": {},
   "outputs": [
    {
     "data": {
      "text/plain": [
       "0    190.000000\n",
       "1    208.900000\n",
       "2    213.261538\n",
       "3    203.702500\n",
       "4    194.529752\n",
       "5    100.380769\n",
       "6     69.112626\n",
       "7    160.518140\n",
       "8    178.573631\n",
       "9    203.191627\n",
       "Name: ad_cost, dtype: float64"
      ]
     },
     "execution_count": 132,
     "metadata": {},
     "output_type": "execute_result"
    }
   ],
   "source": [
    "ads_data['ad_cost'].ewm(span=2).mean().head(10)"
   ]
  },
  {
   "cell_type": "code",
   "execution_count": null,
   "metadata": {},
   "outputs": [],
   "source": [
    "#накопленная сумма\n",
    "data_f1_ = data_f1.sort_values(['rating'])\n",
    "data_f1_['hours_spent_sums'] = data_f1_['hours_spent'].cumsum()"
   ]
  },
  {
   "cell_type": "code",
   "execution_count": null,
   "metadata": {},
   "outputs": [],
   "source": []
  },
  {
   "cell_type": "markdown",
   "metadata": {},
   "source": []
  },
  {
   "cell_type": "markdown",
   "metadata": {},
   "source": [
    "# Списки"
   ]
  },
  {
   "cell_type": "code",
   "execution_count": 133,
   "metadata": {},
   "outputs": [
    {
     "data": {
      "text/plain": [
       "[3, 4, 5, 6, 7, 8, 9, 10, 11, 12]"
      ]
     },
     "execution_count": 133,
     "metadata": {},
     "output_type": "execute_result"
    }
   ],
   "source": [
    "#Создание списков\n",
    "xs = [i + 3 for i in range(10)]\n",
    "xs"
   ]
  },
  {
   "cell_type": "code",
   "execution_count": 134,
   "metadata": {},
   "outputs": [
    {
     "data": {
      "text/plain": [
       "[0, 2, 4, 6, 8]"
      ]
     },
     "execution_count": 134,
     "metadata": {},
     "output_type": "execute_result"
    }
   ],
   "source": [
    "# Get all even numbers\n",
    "evens = [i for i in range(10) if i % 2 == 0]\n",
    "evens"
   ]
  },
  {
   "cell_type": "markdown",
   "metadata": {},
   "source": [
    "### Итерация по нескольким спискам одновременно"
   ]
  },
  {
   "cell_type": "code",
   "execution_count": 136,
   "metadata": {},
   "outputs": [
    {
     "name": "stdout",
     "output_type": "stream",
     "text": [
      "[3, 'all']\n",
      "[5, 'for']\n",
      "[7, 'exoplanets colonization']\n"
     ]
    }
   ],
   "source": [
    "nums = [3, 5, 7]\n",
    "letters = ['all', 'for', 'exoplanets colonization']\n",
    "\n",
    "for num, letter in zip(nums, letters):\n",
    "    print([num, letter])"
   ]
  }
 ],
 "metadata": {
  "kernelspec": {
   "display_name": "Python 3",
   "language": "python",
   "name": "python3"
  },
  "language_info": {
   "codemirror_mode": {
    "name": "ipython",
    "version": 3
   },
   "file_extension": ".py",
   "mimetype": "text/x-python",
   "name": "python",
   "nbconvert_exporter": "python",
   "pygments_lexer": "ipython3",
   "version": "3.7.6"
  }
 },
 "nbformat": 4,
 "nbformat_minor": 4
}
